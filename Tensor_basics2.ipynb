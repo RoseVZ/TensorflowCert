{
  "nbformat": 4,
  "nbformat_minor": 0,
  "metadata": {
    "colab": {
      "name": "Tensor basics2.ipynb",
      "provenance": [],
      "toc_visible": true,
      "authorship_tag": "ABX9TyOGRK/+LvZuZCRasw98YvNX",
      "include_colab_link": true
    },
    "kernelspec": {
      "name": "python3",
      "display_name": "Python 3"
    },
    "language_info": {
      "name": "python"
    },
    "accelerator": "GPU",
    "gpuClass": "standard"
  },
  "cells": [
    {
      "cell_type": "markdown",
      "metadata": {
        "id": "view-in-github",
        "colab_type": "text"
      },
      "source": [
        "<a href=\"https://colab.research.google.com/github/RoseVZ/TensorflowCert/blob/main/Tensor_basics2.ipynb\" target=\"_parent\"><img src=\"https://colab.research.google.com/assets/colab-badge.svg\" alt=\"Open In Colab\"/></a>"
      ]
    },
    {
      "cell_type": "code",
      "execution_count": 3,
      "metadata": {
        "colab": {
          "base_uri": "https://localhost:8080/",
          "height": 37
        },
        "id": "scpZB4lieLVJ",
        "outputId": "c5ffa242-135e-4661-ea5d-f3907b5fef23"
      },
      "outputs": [
        {
          "output_type": "execute_result",
          "data": {
            "text/plain": [
              "'2.8.2'"
            ],
            "application/vnd.google.colaboratory.intrinsic+json": {
              "type": "string"
            }
          },
          "metadata": {},
          "execution_count": 3
        }
      ],
      "source": [
        "import tensorflow as tf\n",
        "tf.__version__"
      ]
    },
    {
      "cell_type": "code",
      "source": [
        "import numpy as np"
      ],
      "metadata": {
        "id": "7_dr9_OvfQ0C"
      },
      "execution_count": 4,
      "outputs": []
    },
    {
      "cell_type": "markdown",
      "source": [
        "## Tensor (Aggregrating)"
      ],
      "metadata": {
        "id": "owfiLKVueX6l"
      }
    },
    {
      "cell_type": "markdown",
      "source": [
        "### Absolute Value"
      ],
      "metadata": {
        "id": "FD6GM3sbey0q"
      }
    },
    {
      "cell_type": "code",
      "source": [
        "D= tf.constant([-1,-2])\n",
        "D"
      ],
      "metadata": {
        "colab": {
          "base_uri": "https://localhost:8080/"
        },
        "id": "ReOG3Sd3eWOQ",
        "outputId": "89153d50-4da4-4ef0-fce9-57040e5c0daa"
      },
      "execution_count": 5,
      "outputs": [
        {
          "output_type": "execute_result",
          "data": {
            "text/plain": [
              "<tf.Tensor: shape=(2,), dtype=int32, numpy=array([-1, -2], dtype=int32)>"
            ]
          },
          "metadata": {},
          "execution_count": 5
        }
      ]
    },
    {
      "cell_type": "code",
      "source": [
        "tf.abs(D)"
      ],
      "metadata": {
        "colab": {
          "base_uri": "https://localhost:8080/"
        },
        "id": "InlTdmL1e8DL",
        "outputId": "36e0683c-2e7b-49d5-ddeb-00af41191d8e"
      },
      "execution_count": 6,
      "outputs": [
        {
          "output_type": "execute_result",
          "data": {
            "text/plain": [
              "<tf.Tensor: shape=(2,), dtype=int32, numpy=array([1, 2], dtype=int32)>"
            ]
          },
          "metadata": {},
          "execution_count": 6
        }
      ]
    },
    {
      "cell_type": "markdown",
      "source": [
        "### Minimum, Max"
      ],
      "metadata": {
        "id": "HYYuTJk-fEcJ"
      }
    },
    {
      "cell_type": "code",
      "source": [
        "e= tf.constant(np.random.randint(0,100,size= 50))\n",
        "e"
      ],
      "metadata": {
        "colab": {
          "base_uri": "https://localhost:8080/"
        },
        "id": "iGd9GgXtfBR1",
        "outputId": "1e5389b5-ee8c-474a-e351-acb89b322d60"
      },
      "execution_count": 7,
      "outputs": [
        {
          "output_type": "execute_result",
          "data": {
            "text/plain": [
              "<tf.Tensor: shape=(50,), dtype=int64, numpy=\n",
              "array([25, 45, 77, 19, 24, 54, 31,  0, 82, 34, 58, 75, 49, 13, 26, 70, 97,\n",
              "       93,  8, 84, 44,  1, 64, 42, 16,  6, 68, 30, 45, 65, 44, 73, 70, 86,\n",
              "       81, 67, 93, 16, 36, 31, 26, 93, 54, 49, 64, 93, 56, 79,  5, 70])>"
            ]
          },
          "metadata": {},
          "execution_count": 7
        }
      ]
    },
    {
      "cell_type": "code",
      "source": [
        "e.shape"
      ],
      "metadata": {
        "colab": {
          "base_uri": "https://localhost:8080/"
        },
        "id": "pJxOWLSbfcdC",
        "outputId": "1c2c34e8-ef1e-4655-a601-76bfb061f2dd"
      },
      "execution_count": 8,
      "outputs": [
        {
          "output_type": "execute_result",
          "data": {
            "text/plain": [
              "TensorShape([50])"
            ]
          },
          "metadata": {},
          "execution_count": 8
        }
      ]
    },
    {
      "cell_type": "code",
      "source": [
        "tf.reduce_min(e \n",
        "              )"
      ],
      "metadata": {
        "colab": {
          "base_uri": "https://localhost:8080/"
        },
        "id": "nRiCNmUzff7u",
        "outputId": "51d881b8-fcbf-4063-ecf4-706e78c1a68c"
      },
      "execution_count": 9,
      "outputs": [
        {
          "output_type": "execute_result",
          "data": {
            "text/plain": [
              "<tf.Tensor: shape=(), dtype=int64, numpy=0>"
            ]
          },
          "metadata": {},
          "execution_count": 9
        }
      ]
    },
    {
      "cell_type": "code",
      "source": [
        "tf.reduce_max(e)"
      ],
      "metadata": {
        "colab": {
          "base_uri": "https://localhost:8080/"
        },
        "id": "i2YKfzi9fn8Y",
        "outputId": "eb0e04c6-a566-4390-a56b-5a3c7d0940d2"
      },
      "execution_count": 10,
      "outputs": [
        {
          "output_type": "execute_result",
          "data": {
            "text/plain": [
              "<tf.Tensor: shape=(), dtype=int64, numpy=97>"
            ]
          },
          "metadata": {},
          "execution_count": 10
        }
      ]
    },
    {
      "cell_type": "markdown",
      "source": [
        "###Sum"
      ],
      "metadata": {
        "id": "4HhdQgVDfrIj"
      }
    },
    {
      "cell_type": "code",
      "source": [
        "tf.reduce_mean(e)"
      ],
      "metadata": {
        "colab": {
          "base_uri": "https://localhost:8080/"
        },
        "id": "7KKK29mWfqhO",
        "outputId": "bfecc828-3dae-40b0-9870-7489b18e4a57"
      },
      "execution_count": 11,
      "outputs": [
        {
          "output_type": "execute_result",
          "data": {
            "text/plain": [
              "<tf.Tensor: shape=(), dtype=int64, numpy=50>"
            ]
          },
          "metadata": {},
          "execution_count": 11
        }
      ]
    },
    {
      "cell_type": "code",
      "source": [
        "tf.reduce_sum(e)"
      ],
      "metadata": {
        "colab": {
          "base_uri": "https://localhost:8080/"
        },
        "id": "ge-iWbOXfxv2",
        "outputId": "305f4cf8-f1dd-4480-94f2-f796863940de"
      },
      "execution_count": 12,
      "outputs": [
        {
          "output_type": "execute_result",
          "data": {
            "text/plain": [
              "<tf.Tensor: shape=(), dtype=int64, numpy=2531>"
            ]
          },
          "metadata": {},
          "execution_count": 12
        }
      ]
    },
    {
      "cell_type": "code",
      "source": [
        "import tensorflow_probability as tfp"
      ],
      "metadata": {
        "id": "f_ffhNimf4y7"
      },
      "execution_count": 13,
      "outputs": []
    },
    {
      "cell_type": "code",
      "source": [
        "tf.math.reduce_variance(tf.cast(e,dtype=tf.float32))"
      ],
      "metadata": {
        "id": "AMP0dM_JBqLr",
        "outputId": "8c0b7b2b-5dd9-41d6-cd24-a933452fa77b",
        "colab": {
          "base_uri": "https://localhost:8080/"
        }
      },
      "execution_count": 24,
      "outputs": [
        {
          "output_type": "execute_result",
          "data": {
            "text/plain": [
              "<tf.Tensor: shape=(), dtype=float32, numpy=775.83563>"
            ]
          },
          "metadata": {},
          "execution_count": 24
        }
      ]
    },
    {
      "cell_type": "code",
      "source": [
        "tf.math.reduce_std(tf.cast(e,dtype=tf.float32))"
      ],
      "metadata": {
        "id": "jAiHZkCDBs2H",
        "outputId": "37f570b2-72a0-4699-deb9-3f27e99a28b2",
        "colab": {
          "base_uri": "https://localhost:8080/"
        }
      },
      "execution_count": 22,
      "outputs": [
        {
          "output_type": "execute_result",
          "data": {
            "text/plain": [
              "<tf.Tensor: shape=(), dtype=float32, numpy=27.853827>"
            ]
          },
          "metadata": {},
          "execution_count": 22
        }
      ]
    },
    {
      "cell_type": "markdown",
      "source": [
        "## Max/Min **Argument**"
      ],
      "metadata": {
        "id": "K3aHKIGvCfdg"
      }
    },
    {
      "cell_type": "code",
      "source": [
        "#return position\n",
        "tf.argmax(e)"
      ],
      "metadata": {
        "id": "cr16VN2CCjOw",
        "outputId": "e8b29c32-208d-4363-ad2c-16822847b758",
        "colab": {
          "base_uri": "https://localhost:8080/"
        }
      },
      "execution_count": 25,
      "outputs": [
        {
          "output_type": "execute_result",
          "data": {
            "text/plain": [
              "<tf.Tensor: shape=(), dtype=int64, numpy=16>"
            ]
          },
          "metadata": {},
          "execution_count": 25
        }
      ]
    },
    {
      "cell_type": "code",
      "source": [
        "e[tf.argmax(e)] \n",
        "#returns max value"
      ],
      "metadata": {
        "id": "VnqKvbm2Cq1t",
        "outputId": "1b15f20e-f5c6-4987-883b-9f15de16c30f",
        "colab": {
          "base_uri": "https://localhost:8080/"
        }
      },
      "execution_count": 26,
      "outputs": [
        {
          "output_type": "execute_result",
          "data": {
            "text/plain": [
              "<tf.Tensor: shape=(), dtype=int64, numpy=97>"
            ]
          },
          "metadata": {},
          "execution_count": 26
        }
      ]
    },
    {
      "cell_type": "code",
      "source": [
        "tf.argmin(e)"
      ],
      "metadata": {
        "id": "e-vAUQBFCuHO",
        "outputId": "f8839485-64d2-4e34-9b8b-56a1fa3ad5b4",
        "colab": {
          "base_uri": "https://localhost:8080/"
        }
      },
      "execution_count": 28,
      "outputs": [
        {
          "output_type": "execute_result",
          "data": {
            "text/plain": [
              "<tf.Tensor: shape=(), dtype=int64, numpy=7>"
            ]
          },
          "metadata": {},
          "execution_count": 28
        }
      ]
    },
    {
      "cell_type": "code",
      "source": [
        "e[tf.argmin(e)]"
      ],
      "metadata": {
        "id": "lCFmMzvbC35V",
        "outputId": "2e301a04-cf6c-4c84-ca39-c977f15686e5",
        "colab": {
          "base_uri": "https://localhost:8080/"
        }
      },
      "execution_count": 29,
      "outputs": [
        {
          "output_type": "execute_result",
          "data": {
            "text/plain": [
              "<tf.Tensor: shape=(), dtype=int64, numpy=0>"
            ]
          },
          "metadata": {},
          "execution_count": 29
        }
      ]
    },
    {
      "cell_type": "code",
      "source": [
        "tf.reduce_max(e)"
      ],
      "metadata": {
        "id": "gOFT7JcWDNJu",
        "outputId": "867b750d-edb2-4cae-9f83-162b1e7a4e06",
        "colab": {
          "base_uri": "https://localhost:8080/"
        }
      },
      "execution_count": 31,
      "outputs": [
        {
          "output_type": "execute_result",
          "data": {
            "text/plain": [
              "<tf.Tensor: shape=(), dtype=int64, numpy=97>"
            ]
          },
          "metadata": {},
          "execution_count": 31
        }
      ]
    },
    {
      "cell_type": "code",
      "source": [
        "tf.argmax(e)==tf.reduce_max(e)"
      ],
      "metadata": {
        "id": "_mIcBrc2C5za",
        "outputId": "91b0bbe0-f13a-4d11-aeba-4a013166d5a4",
        "colab": {
          "base_uri": "https://localhost:8080/"
        }
      },
      "execution_count": 33,
      "outputs": [
        {
          "output_type": "execute_result",
          "data": {
            "text/plain": [
              "<tf.Tensor: shape=(), dtype=bool, numpy=False>"
            ]
          },
          "metadata": {},
          "execution_count": 33
        }
      ]
    },
    {
      "cell_type": "markdown",
      "source": [
        "## Squeezing a TENSOR"
      ],
      "metadata": {
        "id": "Nns4409yDj5T"
      }
    },
    {
      "cell_type": "code",
      "source": [
        "g= tf.random.uniform(shape=[1,1,1,5])\n",
        "g \n",
        "g.shape"
      ],
      "metadata": {
        "id": "5rLEye7GDmud",
        "outputId": "1c3601a2-1739-4a98-fc5d-769826370646",
        "colab": {
          "base_uri": "https://localhost:8080/"
        }
      },
      "execution_count": 36,
      "outputs": [
        {
          "output_type": "execute_result",
          "data": {
            "text/plain": [
              "TensorShape([1, 1, 1, 5])"
            ]
          },
          "metadata": {},
          "execution_count": 36
        }
      ]
    },
    {
      "cell_type": "code",
      "source": [
        "g"
      ],
      "metadata": {
        "id": "XBQtEaQ9EL-I",
        "outputId": "90ee5a03-035a-4767-f940-432c3b32e1f9",
        "colab": {
          "base_uri": "https://localhost:8080/"
        }
      },
      "execution_count": 37,
      "outputs": [
        {
          "output_type": "execute_result",
          "data": {
            "text/plain": [
              "<tf.Tensor: shape=(1, 1, 1, 5), dtype=float32, numpy=\n",
              "array([[[[0.9744512 , 0.37235844, 0.55775476, 0.65359855, 0.70076346]]]],\n",
              "      dtype=float32)>"
            ]
          },
          "metadata": {},
          "execution_count": 37
        }
      ]
    },
    {
      "cell_type": "code",
      "source": [
        "#squuezing\n",
        "g_squeezed = tf.squeeze(g)\n",
        "g_squeezed.shape, g_squeezed"
      ],
      "metadata": {
        "id": "UFZZy3xWENn_",
        "outputId": "130ab120-7c58-4816-d60e-746b51e7b0c0",
        "colab": {
          "base_uri": "https://localhost:8080/"
        }
      },
      "execution_count": 40,
      "outputs": [
        {
          "output_type": "execute_result",
          "data": {
            "text/plain": [
              "(TensorShape([5]), <tf.Tensor: shape=(5,), dtype=float32, numpy=\n",
              " array([0.9744512 , 0.37235844, 0.55775476, 0.65359855, 0.70076346],\n",
              "       dtype=float32)>)"
            ]
          },
          "metadata": {},
          "execution_count": 40
        }
      ]
    },
    {
      "cell_type": "markdown",
      "source": [
        "## ONe hot End=coding"
      ],
      "metadata": {
        "id": "J_1uUCh6E_kK"
      }
    },
    {
      "cell_type": "code",
      "source": [
        "list1 = [1,2,3]\n",
        "tf.one_hot(list1 ,depth=4)"
      ],
      "metadata": {
        "id": "13yNVGAmEcFo",
        "outputId": "6b38d5b8-d573-4333-e0e5-542b200f097f",
        "colab": {
          "base_uri": "https://localhost:8080/"
        }
      },
      "execution_count": 43,
      "outputs": [
        {
          "output_type": "execute_result",
          "data": {
            "text/plain": [
              "<tf.Tensor: shape=(3, 4), dtype=float32, numpy=\n",
              "array([[0., 1., 0., 0.],\n",
              "       [0., 0., 1., 0.],\n",
              "       [0., 0., 0., 1.]], dtype=float32)>"
            ]
          },
          "metadata": {},
          "execution_count": 43
        }
      ]
    },
    {
      "cell_type": "markdown",
      "source": [
        "## Other operations\n",
        "1. Square root : tf.sqrt(pass float value)\n",
        "2. Range : returns values with in the range mentioned\n",
        "3. Log: tf.log(pass value as float32)\n",
        "4. Square: tf.square()"
      ],
      "metadata": {
        "id": "TcYSCwnUF7As"
      }
    },
    {
      "cell_type": "markdown",
      "source": [
        "## Numpy and Tensor\n"
      ],
      "metadata": {
        "id": "gRLw3iV_Gcue"
      }
    },
    {
      "cell_type": "markdown",
      "source": [
        "### Conversion of numpy array to tensor"
      ],
      "metadata": {
        "id": "4JJKpisLGnZW"
      }
    },
    {
      "cell_type": "code",
      "source": [
        "x= np.array([2.,3.,4.])\n",
        "y= tf.constant(x)\n",
        "y"
      ],
      "metadata": {
        "id": "PTKjo_ZnFSs2",
        "outputId": "21b985c7-72aa-4566-8a44-edf1ad3f58bc",
        "colab": {
          "base_uri": "https://localhost:8080/"
        }
      },
      "execution_count": 44,
      "outputs": [
        {
          "output_type": "execute_result",
          "data": {
            "text/plain": [
              "<tf.Tensor: shape=(3,), dtype=float64, numpy=array([2., 3., 4.])>"
            ]
          },
          "metadata": {},
          "execution_count": 44
        }
      ]
    },
    {
      "cell_type": "markdown",
      "source": [
        "### Conversion of  tensor to numpy array "
      ],
      "metadata": {
        "id": "ANv25UArGu8e"
      }
    },
    {
      "cell_type": "code",
      "source": [
        " l= np.array(y)\n",
        " l"
      ],
      "metadata": {
        "id": "lp-Lz2JqGsCL",
        "outputId": "7c04bb82-27a9-45dc-d6ba-c96185bc8bc6",
        "colab": {
          "base_uri": "https://localhost:8080/"
        }
      },
      "execution_count": 47,
      "outputs": [
        {
          "output_type": "execute_result",
          "data": {
            "text/plain": [
              "array([2., 3., 4.])"
            ]
          },
          "metadata": {},
          "execution_count": 47
        }
      ]
    },
    {
      "cell_type": "code",
      "source": [
        "y"
      ],
      "metadata": {
        "id": "sstaED9gG5VD",
        "outputId": "ac32cb85-f634-4468-853d-59c6158ace6f",
        "colab": {
          "base_uri": "https://localhost:8080/"
        }
      },
      "execution_count": 48,
      "outputs": [
        {
          "output_type": "execute_result",
          "data": {
            "text/plain": [
              "<tf.Tensor: shape=(3,), dtype=float64, numpy=array([2., 3., 4.])>"
            ]
          },
          "metadata": {},
          "execution_count": 48
        }
      ]
    },
    {
      "cell_type": "code",
      "source": [
        "y.numpy()\n"
      ],
      "metadata": {
        "id": "PpYnI831HA6I",
        "outputId": "0e578421-620a-43b4-c21d-9d624fcd2f18",
        "colab": {
          "base_uri": "https://localhost:8080/"
        }
      },
      "execution_count": 50,
      "outputs": [
        {
          "output_type": "execute_result",
          "data": {
            "text/plain": [
              "array([2., 3., 4.])"
            ]
          },
          "metadata": {},
          "execution_count": 50
        }
      ]
    },
    {
      "cell_type": "code",
      "source": [
        "type(y.numpy())"
      ],
      "metadata": {
        "id": "Fvej9nDtHGjq",
        "outputId": "90e737c3-341e-4ad7-e18c-18c7303f5f41",
        "colab": {
          "base_uri": "https://localhost:8080/"
        }
      },
      "execution_count": 51,
      "outputs": [
        {
          "output_type": "execute_result",
          "data": {
            "text/plain": [
              "numpy.ndarray"
            ]
          },
          "metadata": {},
          "execution_count": 51
        }
      ]
    },
    {
      "cell_type": "markdown",
      "source": [
        "## 👁 Tensors created from Numpy are of type ***Float64*** vs the other is ***Float 32***"
      ],
      "metadata": {
        "id": "8W08v1dpHix8"
      }
    },
    {
      "cell_type": "markdown",
      "source": [
        "## Gpu Usuage"
      ],
      "metadata": {
        "id": "d1Jw_fz4fXu1"
      }
    },
    {
      "cell_type": "code",
      "source": [
        "import tensorflow as tf\n",
        "tf.config.list_physical_devices()"
      ],
      "metadata": {
        "id": "lIE_NZS3Hx1F",
        "outputId": "e2f61fd1-7781-49db-cee9-e449b5ee9dc2",
        "colab": {
          "base_uri": "https://localhost:8080/"
        }
      },
      "execution_count": 1,
      "outputs": [
        {
          "output_type": "execute_result",
          "data": {
            "text/plain": [
              "[PhysicalDevice(name='/physical_device:CPU:0', device_type='CPU'),\n",
              " PhysicalDevice(name='/physical_device:GPU:0', device_type='GPU')]"
            ]
          },
          "metadata": {},
          "execution_count": 1
        }
      ]
    },
    {
      "cell_type": "code",
      "source": [
        "!nvidia-smi"
      ],
      "metadata": {
        "id": "AThQDajWfpLM",
        "outputId": "be7d1948-9650-4fd5-e8eb-3a9f4a85a049",
        "colab": {
          "base_uri": "https://localhost:8080/"
        }
      },
      "execution_count": 2,
      "outputs": [
        {
          "output_type": "stream",
          "name": "stdout",
          "text": [
            "Fri Aug 26 09:34:28 2022       \n",
            "+-----------------------------------------------------------------------------+\n",
            "| NVIDIA-SMI 460.32.03    Driver Version: 460.32.03    CUDA Version: 11.2     |\n",
            "|-------------------------------+----------------------+----------------------+\n",
            "| GPU  Name        Persistence-M| Bus-Id        Disp.A | Volatile Uncorr. ECC |\n",
            "| Fan  Temp  Perf  Pwr:Usage/Cap|         Memory-Usage | GPU-Util  Compute M. |\n",
            "|                               |                      |               MIG M. |\n",
            "|===============================+======================+======================|\n",
            "|   0  Tesla T4            Off  | 00000000:00:04.0 Off |                    0 |\n",
            "| N/A   41C    P8     9W /  70W |      3MiB / 15109MiB |      0%      Default |\n",
            "|                               |                      |                  N/A |\n",
            "+-------------------------------+----------------------+----------------------+\n",
            "                                                                               \n",
            "+-----------------------------------------------------------------------------+\n",
            "| Processes:                                                                  |\n",
            "|  GPU   GI   CI        PID   Type   Process name                  GPU Memory |\n",
            "|        ID   ID                                                   Usage      |\n",
            "|=============================================================================|\n",
            "|  No running processes found                                                 |\n",
            "+-----------------------------------------------------------------------------+\n"
          ]
        }
      ]
    },
    {
      "cell_type": "code",
      "source": [],
      "metadata": {
        "id": "DbV-ZjzKgNIb"
      },
      "execution_count": null,
      "outputs": []
    }
  ]
}