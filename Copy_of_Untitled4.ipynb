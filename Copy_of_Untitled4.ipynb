{
  "cells": [
    {
      "cell_type": "markdown",
      "metadata": {
        "id": "view-in-github",
        "colab_type": "text"
      },
      "source": [
        "<a href=\"https://colab.research.google.com/github/RoseVZ/TensorflowCert/blob/main/Copy_of_Untitled4.ipynb\" target=\"_parent\"><img src=\"https://colab.research.google.com/assets/colab-badge.svg\" alt=\"Open In Colab\"/></a>"
      ]
    },
    {
      "cell_type": "code",
      "execution_count": null,
      "metadata": {
        "id": "EGUijLLghV0w"
      },
      "outputs": [],
      "source": [
        "import numpy as np\n",
        "import pandas as pd\n",
        "import matplotlib.pyplot as plt\n",
        "import seaborn as sns"
      ]
    },
    {
      "cell_type": "code",
      "execution_count": null,
      "metadata": {
        "id": "PMlGA1dvhezj"
      },
      "outputs": [],
      "source": [
        "from itertools import combinations"
      ]
    },
    {
      "cell_type": "code",
      "execution_count": null,
      "metadata": {
        "id": "vSQQ_l9oivfy"
      },
      "outputs": [],
      "source": [
        "data = pd.read_csv('/content/dataset_clean (1).csv')\n",
        "df1=pd.DataFrame(data)\n",
        "df1.head()"
      ]
    },
    {
      "cell_type": "code",
      "execution_count": null,
      "metadata": {
        "id": "w_BanZuRiym4"
      },
      "outputs": [],
      "source": [
        "X=df1['Symptoms']\n",
        "y=df1['Disease']"
      ]
    },
    {
      "cell_type": "code",
      "execution_count": null,
      "metadata": {
        "id": "XgXWR0ojjB-D"
      },
      "outputs": [],
      "source": [
        "X.head()\n"
      ]
    },
    {
      "cell_type": "code",
      "execution_count": null,
      "metadata": {
        "id": "ZTVn1Ns6jD5s"
      },
      "outputs": [],
      "source": [
        "y.head()"
      ]
    },
    {
      "cell_type": "code",
      "execution_count": null,
      "metadata": {
        "id": "XVH2Vln_oBgU"
      },
      "outputs": [],
      "source": [
        "X_1=[]\n",
        "for i in X:\n",
        "  x=i.split(',')\n",
        "  X_1.append(x)\n",
        "\n",
        "X_1[0]\n",
        "\n",
        "\n"
      ]
    },
    {
      "cell_type": "code",
      "execution_count": null,
      "metadata": {
        "id": "wq1ldtpqjFR6"
      },
      "outputs": [],
      "source": [
        "\n",
        "\n",
        "# import itertools\n",
        "\n",
        "# y_1=[]\n",
        "# X_2=[]\n",
        "# for i in X_1:\n",
        "#   ls=i\n",
        "\n",
        "#   combinations = list(itertools.combinations(ls,2))\n",
        "#   for com in combinations:\n",
        "#     X_2.append(com)\n",
        "#     y_1.append(y[0])\n",
        "\n",
        "# X_2[0]\n",
        "# y_1[0]\n"
      ]
    },
    {
      "cell_type": "code",
      "execution_count": null,
      "metadata": {
        "id": "St6HIPwernZg"
      },
      "outputs": [],
      "source": [
        "import itertools\n",
        "\n",
        "y_1=[]\n",
        "X_2=[]\n",
        "y_check=[]\n",
        "\n",
        "for n in range(len(X_1)):\n",
        "\n",
        "  ls=X_1[n]\n",
        "  if len(ls)>3:\n",
        "    for i in range (3,6):\n",
        "      combinations = list(itertools.combinations(ls,i))\n",
        "      for com in combinations:\n",
        "        X_2.append(com)\n",
        "        y_1.append(y[n])\n",
        "\n",
        "\n",
        "\n",
        "\n",
        "\n",
        "  # combinations = list(itertools.combinations(ls))\n",
        "  # print(len(combinations))\n",
        "  # # for com in combinations:\n",
        "  # #     X_2.append(com)\n",
        "  # #     y_1.append(i)\n",
        "\n",
        "  # # y_check.append(y[n])\n",
        "\n",
        "count=0\n",
        "for i in zip(X_2,y_1):\n",
        "  print(i)\n",
        "  count+=1\n",
        "  if count>10:\n",
        "    break\n",
        "print(len(y_check))\n",
        "list_set = set(y_1)\n",
        "    # convert the set to the list\n",
        "unique_list = (list(list_set))\n",
        "print(len(unique_list))"
      ]
    },
    {
      "cell_type": "code",
      "execution_count": null,
      "metadata": {
        "id": "iwK9bbLFrZfm"
      },
      "outputs": [],
      "source": [
        "\n",
        "# using list comprehension\n",
        "for n in range(len(X_2)):\n",
        "\n",
        "  X_2[n] = ' '.join(map(str, X_2[n]))\n",
        "\n",
        "print(X_2[1])"
      ]
    },
    {
      "cell_type": "code",
      "execution_count": null,
      "metadata": {
        "id": "cjW0Gt9OrQ8T"
      },
      "outputs": [],
      "source": [
        "from sklearn.feature_extraction.text import CountVectorizer\n",
        "count_vect = CountVectorizer()\n",
        "x = count_vect.fit_transform(X_2) #Sparse matrix\n",
        "print('\\nTotal features extracted using CountVectorizer:',x)\n",
        "print('\\nFeatures for first 5 training instances are listed below')\n",
        "df_x=pd.DataFrame(x.toarray(),columns=count_vect.get_feature_names_out())\n",
        "print(df_x[0:5])"
      ]
    },
    {
      "cell_type": "code",
      "execution_count": null,
      "metadata": {
        "id": "vSSOyYSLvA4-"
      },
      "outputs": [],
      "source": [
        "#scale it to standard numbers\n",
        "from sklearn.model_selection import train_test_split\n",
        "from sklearn.preprocessing import StandardScaler\n",
        "sd = StandardScaler(with_mean=False)\n",
        "X_train= sd.fit(x).transform(x.astype(float))"
      ]
    },
    {
      "cell_type": "code",
      "execution_count": null,
      "metadata": {
        "id": "_o_fYt0a0gaH"
      },
      "outputs": [],
      "source": [
        "\n",
        "y_1_df=pd.DataFrame(y_1)\n",
        "disease_counts = y_1_df.value_counts()\n",
        "print(len(disease_counts.index))\n",
        "print(len(disease_counts))\n",
        "ls1=[]\n",
        "for i in disease_counts.index:\n",
        "\n",
        "  print(i)\n",
        "  ls1.append(i)\n",
        "\n",
        "ls2=disease_counts.values\n",
        "temp_df=pd.DataFrame(ls1,columns=['Disease'])\n",
        "temp_df['Counts']=ls2\n",
        "print(temp_df.head())\n",
        "plt.figure(figsize = (18,8))\n",
        "sns.barplot(x = \"Disease\", y = \"Counts\", data = temp_df)\n",
        "plt.xticks(rotation=90)\n",
        "plt.show()"
      ]
    },
    {
      "cell_type": "code",
      "execution_count": null,
      "metadata": {
        "id": "rqDxYQFo1nLi"
      },
      "outputs": [],
      "source": []
    },
    {
      "cell_type": "code",
      "execution_count": null,
      "metadata": {
        "id": "qCv9YLLMvH1n"
      },
      "outputs": [],
      "source": [
        "#split the data into train and test\n",
        "from sklearn.model_selection import train_test_split\n",
        "xtrain,xtest,ytrain,ytest=train_test_split(X_train,y_1)\n",
        "print('\\nDataset is split into Training and Testing samples')\n",
        "print('Total training instances :', xtrain.shape[0])\n",
        "print('Total testing instances :', xtest.shape[0])\n",
        "print(len(ytrain))"
      ]
    },
    {
      "cell_type": "code",
      "execution_count": null,
      "metadata": {
        "id": "AL9oYZyu0RRt"
      },
      "outputs": [],
      "source": [
        "# from sklearn.naive_bayes import MultinomialNB\n",
        "# from sklearn.neighbors import KNeighborsClassifier\n",
        "# from sklearn.tree import DecisionTreeClassifier\n",
        "# def cv_scoring(estimator, X, y):\n",
        "#     return accuracy_score(y, estimator.predict(X))\n",
        "\n",
        "# # Initializing Models\n",
        "# models = {\n",
        "#     \"KNN\":KNeighborsClassifier(),\n",
        "#     \"Multinomial NB\":MultinomialNB(),\n",
        "#     \"Random Forest\":DecisionTreeClassifier()\n",
        "# }\n",
        "\n",
        "# # Producing cross validation score for the models\n",
        "# for model_name in models:\n",
        "#     model = models[model_name]\n",
        "#     scores = cross_val_score(model, X, y, cv = 10,\n",
        "#                              n_jobs = -1,\n",
        "#                              scoring = cv_scoring)\n",
        "#     print(\"==\"*30)\n",
        "#     print(model_name)\n",
        "#     print(f\"Scores: {scores}\")\n",
        "#     print(f\"Mean Score: {np.mean(scores)}\")"
      ]
    },
    {
      "cell_type": "code",
      "execution_count": null,
      "metadata": {
        "id": "__6PUne0vSUy"
      },
      "outputs": [],
      "source": [
        "from sklearn.naive_bayes import MultinomialNB\n",
        "from sklearn.metrics import accuracy_score,confusion_matrix\n",
        "clf = MultinomialNB().fit(xtrain,ytrain)\n",
        "predict_value = clf.predict(xtest)\n",
        "print(\"The accuracy is : \",accuracy_score(ytest,predict_value)*100)\n",
        "\n",
        "cm = confusion_matrix(ytest,predict_value)\n",
        "#plot\n",
        "fig = plt.figure(figsize=(20, 20))\n",
        "sns.heatmap(cm, annot=False, cmap='Blues')\n",
        "# Add labels and color bar\n",
        "plt.title('Naive Bayes Text Classifier')\n",
        "plt.xlabel('Predicted Label')\n",
        "plt.ylabel('True Label')\n",
        "\n"
      ]
    },
    {
      "cell_type": "code",
      "execution_count": null,
      "metadata": {
        "id": "5iJIW55Fveal"
      },
      "outputs": [],
      "source": [
        "#KNN algorithm\n",
        "from sklearn.neighbors import KNeighborsClassifier\n",
        "from sklearn.metrics import accuracy_score\n",
        "KNN = KNeighborsClassifier()\n",
        "KNN.fit(xtrain,ytrain)\n",
        "predict_value = KNN.predict(xtest)\n",
        "print(\"The accuracy is : \",accuracy_score(ytest,predict_value)*100)\n",
        "\n",
        "cm = confusion_matrix(ytest,predict_value)\n",
        "\n",
        "#plot\n",
        "fig = plt.figure(figsize=(20, 20))\n",
        "sns.heatmap(cm, annot=False, cmap='Blues')\n",
        "# Add labels and color bar\n",
        "plt.title('KNN algorithm')\n",
        "plt.xlabel('Predicted Label')\n",
        "plt.ylabel('True Label')\n",
        "plt.savefig('plot_KNN.png')\n",
        "plt.close(fig)"
      ]
    },
    {
      "cell_type": "code",
      "execution_count": null,
      "metadata": {
        "id": "ivWm0vSfvjTT"
      },
      "outputs": [],
      "source": [
        "#Decision Tree\n",
        "from sklearn.tree import DecisionTreeClassifier as DT\n",
        "from sklearn.metrics import accuracy_score,confusion_matrix\n",
        "dt = DT()\n",
        "dt.fit(xtrain,ytrain)\n",
        "predict_value = dt.predict(xtest)\n",
        "print(\"The accuracy is : \",accuracy_score(ytest,predict_value)*100)\n",
        "\n",
        "cm = confusion_matrix(ytest,predict_value)\n",
        "\n",
        "#plot\n",
        "fig = plt.figure(figsize=(20, 20))\n",
        "sns.heatmap(cm, annot=False, cmap='Blues')\n",
        "# Add labels and color bar\n",
        "plt.title('Decision Tree')\n",
        "plt.xlabel('Predicted Label')\n",
        "plt.ylabel('True Label')\n",
        "plt.savefig('plot_decision_tree.png')\n",
        "# plt.close(fig)"
      ]
    },
    {
      "cell_type": "code",
      "execution_count": null,
      "metadata": {
        "id": "JIjmmhAXvuOO"
      },
      "outputs": [],
      "source": [
        "#Neural Network\n",
        "from sklearn.neural_network import MLPClassifier as MLPC\n",
        "from sklearn.metrics import accuracy_score\n",
        "dt = MLPC()\n",
        "dt.fit(xtrain,ytrain)\n",
        "predict_value = dt.predict(xtest)\n",
        "print(\"The accuracy is : \",accuracy_score(ytest,predict_value)*100)\n",
        "\n",
        "cm = confusion_matrix(ytest,predict_value)\n",
        "\n",
        "#plotv\n",
        "fig = plt.figure(figsize=(20, 20))\n",
        "sns.heatmap(cm, annot=False, cmap='Blues')\n",
        "# Add labels and color bar\n",
        "plt.title('Nural')\n",
        "plt.xlabel('Predicted Label')\n",
        "plt.ylabel('True Label')\n",
        "plt.savefig('plot_Neural_Network.png')\n",
        "# plt.close(fig)"
      ]
    },
    {
      "cell_type": "code",
      "execution_count": null,
      "metadata": {
        "id": "YxGF5GsBxxno"
      },
      "outputs": [],
      "source": []
    }
  ],
  "metadata": {
    "accelerator": "GPU",
    "colab": {
      "provenance": [],
      "gpuType": "T4",
      "authorship_tag": "ABX9TyNyRDCL4HPijvAXb3+rLXgD",
      "include_colab_link": true
    },
    "kernelspec": {
      "display_name": "Python 3",
      "name": "python3"
    },
    "language_info": {
      "name": "python"
    }
  },
  "nbformat": 4,
  "nbformat_minor": 0
}