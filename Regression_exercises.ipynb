{
  "nbformat": 4,
  "nbformat_minor": 0,
  "metadata": {
    "colab": {
      "provenance": [],
      "mount_file_id": "18iM1EPxXbyRu5fnuhjjclfkhhuqHCaeL",
      "authorship_tag": "ABX9TyP+MIiOe+Ib/gMFvXklp9HP",
      "include_colab_link": true
    },
    "kernelspec": {
      "name": "python3",
      "display_name": "Python 3"
    },
    "language_info": {
      "name": "python"
    }
  },
  "cells": [
    {
      "cell_type": "markdown",
      "metadata": {
        "id": "view-in-github",
        "colab_type": "text"
      },
      "source": [
        "<a href=\"https://colab.research.google.com/github/RoseVZ/TensorflowCert/blob/main/Regression_exercises.ipynb\" target=\"_parent\"><img src=\"https://colab.research.google.com/assets/colab-badge.svg\" alt=\"Open In Colab\"/></a>"
      ]
    },
    {
      "cell_type": "code",
      "execution_count": 1,
      "metadata": {
        "colab": {
          "base_uri": "https://localhost:8080/",
          "height": 37
        },
        "id": "30rJxD1UDwtj",
        "outputId": "252a1a9a-67b7-4f18-c3c8-14f553a2bc65"
      },
      "outputs": [
        {
          "output_type": "execute_result",
          "data": {
            "text/plain": [
              "'2.8.2'"
            ],
            "application/vnd.google.colaboratory.intrinsic+json": {
              "type": "string"
            }
          },
          "metadata": {},
          "execution_count": 1
        }
      ],
      "source": [
        "import tensorflow as tf\n",
        "tf.__version__"
      ]
    },
    {
      "cell_type": "code",
      "source": [
        "import matplotlib.pyplot as plt\n",
        "import numpy as np\n",
        "import pandas as pd"
      ],
      "metadata": {
        "id": "6hbh-6iLENMY"
      },
      "execution_count": 2,
      "outputs": []
    },
    {
      "cell_type": "markdown",
      "source": [
        "### **Creating a fake dataset**"
      ],
      "metadata": {
        "id": "hqCxGoX6EXqZ"
      }
    },
    {
      "cell_type": "code",
      "source": [
        "X=np.arange(-100,100,2)\n",
        "X"
      ],
      "metadata": {
        "colab": {
          "base_uri": "https://localhost:8080/"
        },
        "id": "xa_QcUWfESCb",
        "outputId": "8e412635-cfe2-4b51-c2ea-ca8ea0635fbc"
      },
      "execution_count": 3,
      "outputs": [
        {
          "output_type": "execute_result",
          "data": {
            "text/plain": [
              "array([-100,  -98,  -96,  -94,  -92,  -90,  -88,  -86,  -84,  -82,  -80,\n",
              "        -78,  -76,  -74,  -72,  -70,  -68,  -66,  -64,  -62,  -60,  -58,\n",
              "        -56,  -54,  -52,  -50,  -48,  -46,  -44,  -42,  -40,  -38,  -36,\n",
              "        -34,  -32,  -30,  -28,  -26,  -24,  -22,  -20,  -18,  -16,  -14,\n",
              "        -12,  -10,   -8,   -6,   -4,   -2,    0,    2,    4,    6,    8,\n",
              "         10,   12,   14,   16,   18,   20,   22,   24,   26,   28,   30,\n",
              "         32,   34,   36,   38,   40,   42,   44,   46,   48,   50,   52,\n",
              "         54,   56,   58,   60,   62,   64,   66,   68,   70,   72,   74,\n",
              "         76,   78,   80,   82,   84,   86,   88,   90,   92,   94,   96,\n",
              "         98])"
            ]
          },
          "metadata": {},
          "execution_count": 3
        }
      ]
    },
    {
      "cell_type": "code",
      "source": [
        "y=np.arange(-101,99,2)\n",
        "y"
      ],
      "metadata": {
        "colab": {
          "base_uri": "https://localhost:8080/"
        },
        "id": "Ui9h3LuCFM0m",
        "outputId": "72e352e3-8962-4a7f-8385-3a3d425654a6"
      },
      "execution_count": 4,
      "outputs": [
        {
          "output_type": "execute_result",
          "data": {
            "text/plain": [
              "array([-101,  -99,  -97,  -95,  -93,  -91,  -89,  -87,  -85,  -83,  -81,\n",
              "        -79,  -77,  -75,  -73,  -71,  -69,  -67,  -65,  -63,  -61,  -59,\n",
              "        -57,  -55,  -53,  -51,  -49,  -47,  -45,  -43,  -41,  -39,  -37,\n",
              "        -35,  -33,  -31,  -29,  -27,  -25,  -23,  -21,  -19,  -17,  -15,\n",
              "        -13,  -11,   -9,   -7,   -5,   -3,   -1,    1,    3,    5,    7,\n",
              "          9,   11,   13,   15,   17,   19,   21,   23,   25,   27,   29,\n",
              "         31,   33,   35,   37,   39,   41,   43,   45,   47,   49,   51,\n",
              "         53,   55,   57,   59,   61,   63,   65,   67,   69,   71,   73,\n",
              "         75,   77,   79,   81,   83,   85,   87,   89,   91,   93,   95,\n",
              "         97])"
            ]
          },
          "metadata": {},
          "execution_count": 4
        }
      ]
    },
    {
      "cell_type": "code",
      "source": [
        "#conversion to tensors\n",
        "X=tf.constant(X)\n",
        "X"
      ],
      "metadata": {
        "colab": {
          "base_uri": "https://localhost:8080/"
        },
        "id": "S5Fw8_a1FWuo",
        "outputId": "703ab97c-c3a1-4630-9bfd-ddf6b8b47735"
      },
      "execution_count": 5,
      "outputs": [
        {
          "output_type": "execute_result",
          "data": {
            "text/plain": [
              "<tf.Tensor: shape=(100,), dtype=int64, numpy=\n",
              "array([-100,  -98,  -96,  -94,  -92,  -90,  -88,  -86,  -84,  -82,  -80,\n",
              "        -78,  -76,  -74,  -72,  -70,  -68,  -66,  -64,  -62,  -60,  -58,\n",
              "        -56,  -54,  -52,  -50,  -48,  -46,  -44,  -42,  -40,  -38,  -36,\n",
              "        -34,  -32,  -30,  -28,  -26,  -24,  -22,  -20,  -18,  -16,  -14,\n",
              "        -12,  -10,   -8,   -6,   -4,   -2,    0,    2,    4,    6,    8,\n",
              "         10,   12,   14,   16,   18,   20,   22,   24,   26,   28,   30,\n",
              "         32,   34,   36,   38,   40,   42,   44,   46,   48,   50,   52,\n",
              "         54,   56,   58,   60,   62,   64,   66,   68,   70,   72,   74,\n",
              "         76,   78,   80,   82,   84,   86,   88,   90,   92,   94,   96,\n",
              "         98])>"
            ]
          },
          "metadata": {},
          "execution_count": 5
        }
      ]
    },
    {
      "cell_type": "code",
      "source": [
        "y=tf.constant(y)\n",
        "y"
      ],
      "metadata": {
        "colab": {
          "base_uri": "https://localhost:8080/"
        },
        "id": "AgJ1I4oPFcnQ",
        "outputId": "dadcceb9-e7fa-430c-bbf3-4f375d248a3b"
      },
      "execution_count": 6,
      "outputs": [
        {
          "output_type": "execute_result",
          "data": {
            "text/plain": [
              "<tf.Tensor: shape=(100,), dtype=int64, numpy=\n",
              "array([-101,  -99,  -97,  -95,  -93,  -91,  -89,  -87,  -85,  -83,  -81,\n",
              "        -79,  -77,  -75,  -73,  -71,  -69,  -67,  -65,  -63,  -61,  -59,\n",
              "        -57,  -55,  -53,  -51,  -49,  -47,  -45,  -43,  -41,  -39,  -37,\n",
              "        -35,  -33,  -31,  -29,  -27,  -25,  -23,  -21,  -19,  -17,  -15,\n",
              "        -13,  -11,   -9,   -7,   -5,   -3,   -1,    1,    3,    5,    7,\n",
              "          9,   11,   13,   15,   17,   19,   21,   23,   25,   27,   29,\n",
              "         31,   33,   35,   37,   39,   41,   43,   45,   47,   49,   51,\n",
              "         53,   55,   57,   59,   61,   63,   65,   67,   69,   71,   73,\n",
              "         75,   77,   79,   81,   83,   85,   87,   89,   91,   93,   95,\n",
              "         97])>"
            ]
          },
          "metadata": {},
          "execution_count": 6
        }
      ]
    },
    {
      "cell_type": "code",
      "source": [
        "y.shape"
      ],
      "metadata": {
        "id": "kCIu0YyOFz-v",
        "colab": {
          "base_uri": "https://localhost:8080/"
        },
        "outputId": "38a37675-496a-4219-c3a0-134e504581fa"
      },
      "execution_count": 7,
      "outputs": [
        {
          "output_type": "execute_result",
          "data": {
            "text/plain": [
              "TensorShape([100])"
            ]
          },
          "metadata": {},
          "execution_count": 7
        }
      ]
    },
    {
      "cell_type": "code",
      "source": [
        "X.shape"
      ],
      "metadata": {
        "colab": {
          "base_uri": "https://localhost:8080/"
        },
        "id": "tYySZMj4TBXz",
        "outputId": "3150c560-9f4a-4ca1-a532-8d9f3b56794c"
      },
      "execution_count": 9,
      "outputs": [
        {
          "output_type": "execute_result",
          "data": {
            "text/plain": [
              "TensorShape([100])"
            ]
          },
          "metadata": {},
          "execution_count": 9
        }
      ]
    },
    {
      "cell_type": "code",
      "source": [
        "y_train=y[:80]\n",
        "y_train"
      ],
      "metadata": {
        "colab": {
          "base_uri": "https://localhost:8080/"
        },
        "id": "R1Grhrl8TEv6",
        "outputId": "deef37d1-dc49-433a-a334-f9de4db0d97f"
      },
      "execution_count": 12,
      "outputs": [
        {
          "output_type": "execute_result",
          "data": {
            "text/plain": [
              "<tf.Tensor: shape=(80,), dtype=int64, numpy=\n",
              "array([-101,  -99,  -97,  -95,  -93,  -91,  -89,  -87,  -85,  -83,  -81,\n",
              "        -79,  -77,  -75,  -73,  -71,  -69,  -67,  -65,  -63,  -61,  -59,\n",
              "        -57,  -55,  -53,  -51,  -49,  -47,  -45,  -43,  -41,  -39,  -37,\n",
              "        -35,  -33,  -31,  -29,  -27,  -25,  -23,  -21,  -19,  -17,  -15,\n",
              "        -13,  -11,   -9,   -7,   -5,   -3,   -1,    1,    3,    5,    7,\n",
              "          9,   11,   13,   15,   17,   19,   21,   23,   25,   27,   29,\n",
              "         31,   33,   35,   37,   39,   41,   43,   45,   47,   49,   51,\n",
              "         53,   55,   57])>"
            ]
          },
          "metadata": {},
          "execution_count": 12
        }
      ]
    },
    {
      "cell_type": "code",
      "source": [
        "X_train=X[:80]"
      ],
      "metadata": {
        "id": "NSWj6P_ZTOnu"
      },
      "execution_count": 13,
      "outputs": []
    },
    {
      "cell_type": "code",
      "source": [
        "X_test=X[80:100]\n",
        "X_test"
      ],
      "metadata": {
        "colab": {
          "base_uri": "https://localhost:8080/"
        },
        "id": "mDEEX2glTR0s",
        "outputId": "d2aa312e-e13d-4557-809c-4746eb4ee376"
      },
      "execution_count": 17,
      "outputs": [
        {
          "output_type": "execute_result",
          "data": {
            "text/plain": [
              "<tf.Tensor: shape=(20,), dtype=int64, numpy=\n",
              "array([60, 62, 64, 66, 68, 70, 72, 74, 76, 78, 80, 82, 84, 86, 88, 90, 92,\n",
              "       94, 96, 98])>"
            ]
          },
          "metadata": {},
          "execution_count": 17
        }
      ]
    },
    {
      "cell_type": "code",
      "source": [
        "y_test=y[80:100]"
      ],
      "metadata": {
        "id": "V5hOrPGYTYHB"
      },
      "execution_count": 18,
      "outputs": []
    },
    {
      "cell_type": "code",
      "source": [
        "plt.figure(figsize=(10, 7))\n",
        "# Plot training data in blue\n",
        "plt.scatter(X_train, y_train, c='b', label='Training data')\n",
        "# Plot test data in green\n",
        "plt.scatter(X_test, y_test, c='g', label='Testing data')\n",
        "# Show the legend\n",
        "plt.legend();"
      ],
      "metadata": {
        "colab": {
          "base_uri": "https://localhost:8080/",
          "height": 428
        },
        "id": "i6oz6udcVMUR",
        "outputId": "587e35f2-9912-47b4-bbf5-9266af5e07cf"
      },
      "execution_count": 26,
      "outputs": [
        {
          "output_type": "display_data",
          "data": {
            "text/plain": [
              "<Figure size 720x504 with 1 Axes>"
            ],
            "image/png": "[encoded data removed]"
          },
          "metadata": {
            "needs_background": "light"
          }
        }
      ]
    },
    {
      "cell_type": "code",
      "source": [
        "model_1=tf.keras.Sequential([\n",
        "    tf.keras.layers.Dense(1,input_shape=[1],activation='relu')]\n",
        ")\n",
        "model_1.compile(loss='mae',\n",
        "                optimizer='adam',\n",
        "                metrics=['mae'])"
      ],
      "metadata": {
        "id": "Y3GbVwkXTf9T"
      },
      "execution_count": 27,
      "outputs": []
    },
    {
      "cell_type": "code",
      "source": [
        "model_1.summary()"
      ],
      "metadata": {
        "colab": {
          "base_uri": "https://localhost:8080/"
        },
        "id": "TiAc_p_9Vd57",
        "outputId": "c1d32ea7-7d82-4fb6-9ea6-b3403d8ec4c7"
      },
      "execution_count": 29,
      "outputs": [
        {
          "output_type": "stream",
          "name": "stdout",
          "text": [
            "Model: \"sequential_3\"\n",
            "_________________________________________________________________\n",
            " Layer (type)                Output Shape              Param #   \n",
            "=================================================================\n",
            " dense_3 (Dense)             (None, 1)                 2         \n",
            "                                                                 \n",
            "=================================================================\n",
            "Total params: 2\n",
            "Trainable params: 2\n",
            "Non-trainable params: 0\n",
            "_________________________________________________________________\n"
          ]
        }
      ]
    },
    {
      "cell_type": "markdown",
      "source": [
        "# 2d Plot of the model "
      ],
      "metadata": {
        "id": "AsZEFeO4Vnk1"
      }
    },
    {
      "cell_type": "code",
      "source": [
        "from tensorflow.keras.utils import plot_model\n",
        "plot_model(model_1, show_shapes=True)"
      ],
      "metadata": {
        "colab": {
          "base_uri": "https://localhost:8080/",
          "height": 201
        },
        "id": "ay_Bpk4_VrjP",
        "outputId": "6ce797a4-1b53-4c75-f927-24f859a3d725"
      },
      "execution_count": 31,
      "outputs": [
        {
          "output_type": "execute_result",
          "data": {
            "image/png": "[encoded data removed]",
            "text/plain": [
              "<IPython.core.display.Image object>"
            ]
          },
          "metadata": {},
          "execution_count": 31
        }
      ]
    },
    {
      "cell_type": "markdown",
      "source": [
        "# Training Data"
      ],
      "metadata": {
        "id": "DdyvuLWhVziK"
      }
    },
    {
      "cell_type": "code",
      "source": [
        "model_1.fit(X_train,y_train,epochs=100)"
      ],
      "metadata": {
        "id": "5t9oJ1q-Ul0Y"
      },
      "execution_count": null,
      "outputs": []
    },
    {
      "cell_type": "code",
      "source": [
        "y_pred = model_1.predict(X_test)\n",
        "y_pred"
      ],
      "metadata": {
        "colab": {
          "base_uri": "https://localhost:8080/"
        },
        "id": "l_K64iWSV7dm",
        "outputId": "7ddb2a9a-cb20-4d2b-bc37-4ad9310b1b2e"
      },
      "execution_count": 33,
      "outputs": [
        {
          "output_type": "execute_result",
          "data": {
            "text/plain": [
              "array([[3.1732848],\n",
              "       [3.2821038],\n",
              "       [3.3909228],\n",
              "       [3.4997418],\n",
              "       [3.6085608],\n",
              "       [3.7173798],\n",
              "       [3.8261988],\n",
              "       [3.9350176],\n",
              "       [4.0438366],\n",
              "       [4.1526556],\n",
              "       [4.2614746],\n",
              "       [4.3702936],\n",
              "       [4.4791126],\n",
              "       [4.5879316],\n",
              "       [4.6967506],\n",
              "       [4.8055696],\n",
              "       [4.9143887],\n",
              "       [5.0232077],\n",
              "       [5.1320267],\n",
              "       [5.2408457]], dtype=float32)"
            ]
          },
          "metadata": {},
          "execution_count": 33
        }
      ]
    },
    {
      "cell_type": "markdown",
      "source": [
        "# defining a visualizing function"
      ],
      "metadata": {
        "id": "2WbD2q9NYAQA"
      }
    },
    {
      "cell_type": "code",
      "source": [
        "def plot_preds(train_data=X_train,train_label=y_train,test_data=X_test,test_label=y_test,predictions=y_pred):\n",
        "  plt.figure(figsize=(10,7))\n",
        "  plt.scatter(train_data,train_label,c='b',label='Training data')\n",
        "  plt.scatter(test_data,test_label,c='g',label='Test data')\n",
        "  plt.scatter(predictions,test_label,c='r',label='Predictions')\n",
        "  plt.legend()"
      ],
      "metadata": {
        "id": "7oHbXhxwX96T"
      },
      "execution_count": 45,
      "outputs": []
    },
    {
      "cell_type": "code",
      "source": [
        "plot_preds(X_train,y_train,X_test,y_test,y_pred)\n"
      ],
      "metadata": {
        "colab": {
          "base_uri": "https://localhost:8080/",
          "height": 428
        },
        "id": "skdRNsQVY11f",
        "outputId": "915b9916-fb90-4322-80fd-389e0fec3e7d"
      },
      "execution_count": 47,
      "outputs": [
        {
          "output_type": "display_data",
          "data": {
            "text/plain": [
              "<Figure size 720x504 with 1 Axes>"
            ],
            "image/png": "[encoded data removed]"
          },
          "metadata": {
            "needs_background": "light"
          }
        }
      ]
    },
    {
      "cell_type": "markdown",
      "source": [
        "#Evaluation"
      ],
      "metadata": {
        "id": "XtxuafQKZ-Rr"
      }
    },
    {
      "cell_type": "code",
      "source": [
        "model_1.evaluate(X_test,y_test)"
      ],
      "metadata": {
        "colab": {
          "base_uri": "https://localhost:8080/"
        },
        "id": "GV6pxCrkZ2Eb",
        "outputId": "a4a0c221-392c-424a-de8f-1c068de345ca"
      },
      "execution_count": 48,
      "outputs": [
        {
          "output_type": "stream",
          "name": "stdout",
          "text": [
            "1/1 [==============================] - 0s 240ms/step - loss: 73.7929 - mae: 73.7929\n"
          ]
        },
        {
          "output_type": "execute_result",
          "data": {
            "text/plain": [
              "[73.79293823242188, 73.79293823242188]"
            ]
          },
          "metadata": {},
          "execution_count": 48
        }
      ]
    },
    {
      "cell_type": "code",
      "source": [
        "def mae(y_test, y_preds):\n",
        "  return tf.metrics.mean_absolute_error(y_test,\n",
        "                                        y_preds)\n",
        "def mse(y_test,y_preds):\n",
        "  return tf.metrics.mean_squared_error(y_test,y_preds)\n",
        "  "
      ],
      "metadata": {
        "id": "pcw7fZB1a5yu"
      },
      "execution_count": 68,
      "outputs": []
    },
    {
      "cell_type": "code",
      "source": [
        "mae_1=mae(y_test,y_pred)\n",
        "mae_1\n",
        "#here we get an array of values as shapes of y_test and y_pred arent same"
      ],
      "metadata": {
        "colab": {
          "base_uri": "https://localhost:8080/"
        },
        "id": "aeCn9-W4Zvva",
        "outputId": "3ede3b3c-788c-435a-eef2-73c9cf748704"
      },
      "execution_count": 53,
      "outputs": [
        {
          "output_type": "execute_result",
          "data": {
            "text/plain": [
              "<tf.Tensor: shape=(20,), dtype=float32, numpy=\n",
              "array([74.82671 , 74.717896, 74.60908 , 74.50026 , 74.39144 , 74.28262 ,\n",
              "       74.1738  , 74.06498 , 73.95616 , 73.84734 , 73.738525, 73.62971 ,\n",
              "       73.52089 , 73.41207 , 73.30325 , 73.19443 , 73.08561 , 72.97679 ,\n",
              "       72.86797 , 72.759155], dtype=float32)>"
            ]
          },
          "metadata": {},
          "execution_count": 53
        }
      ]
    },
    {
      "cell_type": "code",
      "source": [
        "y_pred=tf.squeeze(y_pred)\n",
        "y_pred.shape"
      ],
      "metadata": {
        "colab": {
          "base_uri": "https://localhost:8080/"
        },
        "id": "AFHHswvzbOwW",
        "outputId": "7e6d8964-9a9f-4fa3-ef74-67a364ac9929"
      },
      "execution_count": 55,
      "outputs": [
        {
          "output_type": "execute_result",
          "data": {
            "text/plain": [
              "TensorShape([20])"
            ]
          },
          "metadata": {},
          "execution_count": 55
        }
      ]
    },
    {
      "cell_type": "code",
      "source": [
        "mae_2=mae(y_test,y_pred)\n",
        "mae_2\n",
        "#single value here after squeeze"
      ],
      "metadata": {
        "colab": {
          "base_uri": "https://localhost:8080/"
        },
        "id": "2t3u4lf_bfsQ",
        "outputId": "c6f3b604-999a-404e-8b99-af0f95440d93"
      },
      "execution_count": 58,
      "outputs": [
        {
          "output_type": "execute_result",
          "data": {
            "text/plain": [
              "<tf.Tensor: shape=(), dtype=float32, numpy=73.79294>"
            ]
          },
          "metadata": {},
          "execution_count": 58
        }
      ]
    },
    {
      "cell_type": "code",
      "source": [
        "mse_2=mse(y_test,y_pred)\n",
        "mse_2"
      ],
      "metadata": {
        "colab": {
          "base_uri": "https://localhost:8080/"
        },
        "id": "tAQdPu8Abqwl",
        "outputId": "71ba937b-f963-422f-dfdb-85ae5fbd97cf"
      },
      "execution_count": 60,
      "outputs": [
        {
          "output_type": "execute_result",
          "data": {
            "text/plain": [
              "<tf.Tensor: shape=(), dtype=float32, numpy=5564.318>"
            ]
          },
          "metadata": {},
          "execution_count": 60
        }
      ]
    },
    {
      "cell_type": "markdown",
      "source": [
        "#Model 2"
      ],
      "metadata": {
        "id": "ublvOog6cmME"
      }
    },
    {
      "cell_type": "code",
      "source": [
        "model_2 = tf.keras.Sequential([\n",
        "    tf.keras.layers.Dense(100,input_shape=[1],activation='relu'),\n",
        "    tf.keras.layers.Dense(1)\n",
        "\n",
        "])\n",
        "\n",
        "model_2.compile(loss='mse',optimizer='adam',metrics=['mse'])"
      ],
      "metadata": {
        "id": "E2LCTiIDcnrl"
      },
      "execution_count": 62,
      "outputs": []
    },
    {
      "cell_type": "code",
      "source": [
        "model_2.fit(X_train,y_train,epochs=100)"
      ],
      "metadata": {
        "colab": {
          "base_uri": "https://localhost:8080/"
        },
        "id": "XBYpkKcLdIaN",
        "outputId": "738380b1-39be-43b8-ba01-7cdddcd93649"
      },
      "execution_count": 63,
      "outputs": [
        {
          "output_type": "stream",
          "name": "stdout",
          "text": [
            "Epoch 1/100\n",
            "3/3 [==============================] - 0s 5ms/step - loss: 2411.8816 - mse: 2411.8816\n",
            "Epoch 2/100\n",
            "3/3 [==============================] - 0s 7ms/step - loss: 2261.9434 - mse: 2261.9434\n",
            "Epoch 3/100\n",
            "3/3 [==============================] - 0s 5ms/step - loss: 2104.1453 - mse: 2104.1453\n",
            "Epoch 4/100\n",
            "3/3 [==============================] - 0s 5ms/step - loss: 1951.8984 - mse: 1951.8984\n",
            "Epoch 5/100\n",
            "3/3 [==============================] - 0s 6ms/step - loss: 1824.5652 - mse: 1824.5652\n",
            "Epoch 6/100\n",
            "3/3 [==============================] - 0s 5ms/step - loss: 1681.3289 - mse: 1681.3289\n",
            "Epoch 7/100\n",
            "3/3 [==============================] - 0s 5ms/step - loss: 1554.7629 - mse: 1554.7629\n",
            "Epoch 8/100\n",
            "3/3 [==============================] - 0s 6ms/step - loss: 1431.4690 - mse: 1431.4690\n",
            "Epoch 9/100\n",
            "3/3 [==============================] - 0s 6ms/step - loss: 1317.2654 - mse: 1317.2654\n",
            "Epoch 10/100\n",
            "3/3 [==============================] - 0s 6ms/step - loss: 1205.3922 - mse: 1205.3922\n",
            "Epoch 11/100\n",
            "3/3 [==============================] - 0s 6ms/step - loss: 1105.3097 - mse: 1105.3097\n",
            "Epoch 12/100\n",
            "3/3 [==============================] - 0s 5ms/step - loss: 1005.9758 - mse: 1005.9758\n",
            "Epoch 13/100\n",
            "3/3 [==============================] - 0s 6ms/step - loss: 915.3626 - mse: 915.3626\n",
            "Epoch 14/100\n",
            "3/3 [==============================] - 0s 7ms/step - loss: 830.7859 - mse: 830.7859\n",
            "Epoch 15/100\n",
            "3/3 [==============================] - 0s 7ms/step - loss: 743.3018 - mse: 743.3018\n",
            "Epoch 16/100\n",
            "3/3 [==============================] - 0s 7ms/step - loss: 663.5328 - mse: 663.5328\n",
            "Epoch 17/100\n",
            "3/3 [==============================] - 0s 7ms/step - loss: 588.2640 - mse: 588.2640\n",
            "Epoch 18/100\n",
            "3/3 [==============================] - 0s 7ms/step - loss: 526.0284 - mse: 526.0284\n",
            "Epoch 19/100\n",
            "3/3 [==============================] - 0s 6ms/step - loss: 456.5199 - mse: 456.5199\n",
            "Epoch 20/100\n",
            "3/3 [==============================] - 0s 10ms/step - loss: 395.9227 - mse: 395.9227\n",
            "Epoch 21/100\n",
            "3/3 [==============================] - 0s 6ms/step - loss: 346.0956 - mse: 346.0956\n",
            "Epoch 22/100\n",
            "3/3 [==============================] - 0s 3ms/step - loss: 289.4519 - mse: 289.4519\n",
            "Epoch 23/100\n",
            "3/3 [==============================] - 0s 5ms/step - loss: 248.8339 - mse: 248.8339\n",
            "Epoch 24/100\n",
            "3/3 [==============================] - 0s 9ms/step - loss: 205.7478 - mse: 205.7478\n",
            "Epoch 25/100\n",
            "3/3 [==============================] - 0s 13ms/step - loss: 169.7226 - mse: 169.7226\n",
            "Epoch 26/100\n",
            "3/3 [==============================] - 0s 5ms/step - loss: 139.2249 - mse: 139.2249\n",
            "Epoch 27/100\n",
            "3/3 [==============================] - 0s 4ms/step - loss: 111.7927 - mse: 111.7927\n",
            "Epoch 28/100\n",
            "3/3 [==============================] - 0s 4ms/step - loss: 86.2458 - mse: 86.2458\n",
            "Epoch 29/100\n",
            "3/3 [==============================] - 0s 3ms/step - loss: 68.0472 - mse: 68.0472\n",
            "Epoch 30/100\n",
            "3/3 [==============================] - 0s 3ms/step - loss: 51.7920 - mse: 51.7920\n",
            "Epoch 31/100\n",
            "3/3 [==============================] - 0s 3ms/step - loss: 38.8605 - mse: 38.8605\n",
            "Epoch 32/100\n",
            "3/3 [==============================] - 0s 4ms/step - loss: 28.3637 - mse: 28.3637\n",
            "Epoch 33/100\n",
            "3/3 [==============================] - 0s 3ms/step - loss: 19.9166 - mse: 19.9166\n",
            "Epoch 34/100\n",
            "3/3 [==============================] - 0s 4ms/step - loss: 13.7023 - mse: 13.7023\n",
            "Epoch 35/100\n",
            "3/3 [==============================] - 0s 4ms/step - loss: 9.2344 - mse: 9.2344\n",
            "Epoch 36/100\n",
            "3/3 [==============================] - 0s 4ms/step - loss: 5.8987 - mse: 5.8987\n",
            "Epoch 37/100\n",
            "3/3 [==============================] - 0s 4ms/step - loss: 3.5651 - mse: 3.5651\n",
            "Epoch 38/100\n",
            "3/3 [==============================] - 0s 3ms/step - loss: 2.1650 - mse: 2.1650\n",
            "Epoch 39/100\n",
            "3/3 [==============================] - 0s 5ms/step - loss: 1.1790 - mse: 1.1790\n",
            "Epoch 40/100\n",
            "3/3 [==============================] - 0s 5ms/step - loss: 0.6250 - mse: 0.6250\n",
            "Epoch 41/100\n",
            "3/3 [==============================] - 0s 3ms/step - loss: 0.3613 - mse: 0.3613\n",
            "Epoch 42/100\n",
            "3/3 [==============================] - 0s 4ms/step - loss: 0.2349 - mse: 0.2349\n",
            "Epoch 43/100\n",
            "3/3 [==============================] - 0s 4ms/step - loss: 0.2056 - mse: 0.2056\n",
            "Epoch 44/100\n",
            "3/3 [==============================] - 0s 4ms/step - loss: 0.2179 - mse: 0.2179\n",
            "Epoch 45/100\n",
            "3/3 [==============================] - 0s 4ms/step - loss: 0.2463 - mse: 0.2463\n",
            "Epoch 46/100\n",
            "3/3 [==============================] - 0s 6ms/step - loss: 0.2728 - mse: 0.2728\n",
            "Epoch 47/100\n",
            "3/3 [==============================] - 0s 4ms/step - loss: 0.2877 - mse: 0.2877\n",
            "Epoch 48/100\n",
            "3/3 [==============================] - 0s 3ms/step - loss: 0.2923 - mse: 0.2923\n",
            "Epoch 49/100\n",
            "3/3 [==============================] - 0s 4ms/step - loss: 0.2880 - mse: 0.2880\n",
            "Epoch 50/100\n",
            "3/3 [==============================] - 0s 3ms/step - loss: 0.2777 - mse: 0.2777\n",
            "Epoch 51/100\n",
            "3/3 [==============================] - 0s 4ms/step - loss: 0.2645 - mse: 0.2645\n",
            "Epoch 52/100\n",
            "3/3 [==============================] - 0s 4ms/step - loss: 0.2489 - mse: 0.2489\n",
            "Epoch 53/100\n",
            "3/3 [==============================] - 0s 5ms/step - loss: 0.2347 - mse: 0.2347\n",
            "Epoch 54/100\n",
            "3/3 [==============================] - 0s 3ms/step - loss: 0.2227 - mse: 0.2227\n",
            "Epoch 55/100\n",
            "3/3 [==============================] - 0s 4ms/step - loss: 0.2128 - mse: 0.2128\n",
            "Epoch 56/100\n",
            "3/3 [==============================] - 0s 4ms/step - loss: 0.2040 - mse: 0.2040\n",
            "Epoch 57/100\n",
            "3/3 [==============================] - 0s 4ms/step - loss: 0.1991 - mse: 0.1991\n",
            "Epoch 58/100\n",
            "3/3 [==============================] - 0s 4ms/step - loss: 0.1950 - mse: 0.1950\n",
            "Epoch 59/100\n",
            "3/3 [==============================] - 0s 3ms/step - loss: 0.1928 - mse: 0.1928\n",
            "Epoch 60/100\n",
            "3/3 [==============================] - 0s 5ms/step - loss: 0.1916 - mse: 0.1916\n",
            "Epoch 61/100\n",
            "3/3 [==============================] - 0s 4ms/step - loss: 0.1907 - mse: 0.1907\n",
            "Epoch 62/100\n",
            "3/3 [==============================] - 0s 4ms/step - loss: 0.1904 - mse: 0.1904\n",
            "Epoch 63/100\n",
            "3/3 [==============================] - 0s 3ms/step - loss: 0.1901 - mse: 0.1901\n",
            "Epoch 64/100\n",
            "3/3 [==============================] - 0s 3ms/step - loss: 0.1900 - mse: 0.1900\n",
            "Epoch 65/100\n",
            "3/3 [==============================] - 0s 3ms/step - loss: 0.1897 - mse: 0.1897\n",
            "Epoch 66/100\n",
            "3/3 [==============================] - 0s 4ms/step - loss: 0.1895 - mse: 0.1895\n",
            "Epoch 67/100\n",
            "3/3 [==============================] - 0s 4ms/step - loss: 0.1891 - mse: 0.1891\n",
            "Epoch 68/100\n",
            "3/3 [==============================] - 0s 4ms/step - loss: 0.1887 - mse: 0.1887\n",
            "Epoch 69/100\n",
            "3/3 [==============================] - 0s 4ms/step - loss: 0.1883 - mse: 0.1883\n",
            "Epoch 70/100\n",
            "3/3 [==============================] - 0s 4ms/step - loss: 0.1880 - mse: 0.1880\n",
            "Epoch 71/100\n",
            "3/3 [==============================] - 0s 4ms/step - loss: 0.1876 - mse: 0.1876\n",
            "Epoch 72/100\n",
            "3/3 [==============================] - 0s 3ms/step - loss: 0.1872 - mse: 0.1872\n",
            "Epoch 73/100\n",
            "3/3 [==============================] - 0s 4ms/step - loss: 0.1868 - mse: 0.1868\n",
            "Epoch 74/100\n",
            "3/3 [==============================] - 0s 4ms/step - loss: 0.1864 - mse: 0.1864\n",
            "Epoch 75/100\n",
            "3/3 [==============================] - 0s 4ms/step - loss: 0.1860 - mse: 0.1860\n",
            "Epoch 76/100\n",
            "3/3 [==============================] - 0s 4ms/step - loss: 0.1856 - mse: 0.1856\n",
            "Epoch 77/100\n",
            "3/3 [==============================] - 0s 4ms/step - loss: 0.1852 - mse: 0.1852\n",
            "Epoch 78/100\n",
            "3/3 [==============================] - 0s 4ms/step - loss: 0.1849 - mse: 0.1849\n",
            "Epoch 79/100\n",
            "3/3 [==============================] - 0s 4ms/step - loss: 0.1845 - mse: 0.1845\n",
            "Epoch 80/100\n",
            "3/3 [==============================] - 0s 3ms/step - loss: 0.1841 - mse: 0.1841\n",
            "Epoch 81/100\n",
            "3/3 [==============================] - 0s 4ms/step - loss: 0.1842 - mse: 0.1842\n",
            "Epoch 82/100\n",
            "3/3 [==============================] - 0s 4ms/step - loss: 0.1837 - mse: 0.1837\n",
            "Epoch 83/100\n",
            "3/3 [==============================] - 0s 4ms/step - loss: 0.1832 - mse: 0.1832\n",
            "Epoch 84/100\n",
            "3/3 [==============================] - 0s 4ms/step - loss: 0.1829 - mse: 0.1829\n",
            "Epoch 85/100\n",
            "3/3 [==============================] - 0s 3ms/step - loss: 0.1827 - mse: 0.1827\n",
            "Epoch 86/100\n",
            "3/3 [==============================] - 0s 3ms/step - loss: 0.1820 - mse: 0.1820\n",
            "Epoch 87/100\n",
            "3/3 [==============================] - 0s 5ms/step - loss: 0.1816 - mse: 0.1816\n",
            "Epoch 88/100\n",
            "3/3 [==============================] - 0s 4ms/step - loss: 0.1812 - mse: 0.1812\n",
            "Epoch 89/100\n",
            "3/3 [==============================] - 0s 4ms/step - loss: 0.1808 - mse: 0.1808\n",
            "Epoch 90/100\n",
            "3/3 [==============================] - 0s 5ms/step - loss: 0.1805 - mse: 0.1805\n",
            "Epoch 91/100\n",
            "3/3 [==============================] - 0s 4ms/step - loss: 0.1801 - mse: 0.1801\n",
            "Epoch 92/100\n",
            "3/3 [==============================] - 0s 4ms/step - loss: 0.1797 - mse: 0.1797\n",
            "Epoch 93/100\n",
            "3/3 [==============================] - 0s 4ms/step - loss: 0.1794 - mse: 0.1794\n",
            "Epoch 94/100\n",
            "3/3 [==============================] - 0s 3ms/step - loss: 0.1790 - mse: 0.1790\n",
            "Epoch 95/100\n",
            "3/3 [==============================] - 0s 4ms/step - loss: 0.1786 - mse: 0.1786\n",
            "Epoch 96/100\n",
            "3/3 [==============================] - 0s 3ms/step - loss: 0.1785 - mse: 0.1785\n",
            "Epoch 97/100\n",
            "3/3 [==============================] - 0s 4ms/step - loss: 0.1779 - mse: 0.1779\n",
            "Epoch 98/100\n",
            "3/3 [==============================] - 0s 4ms/step - loss: 0.1775 - mse: 0.1775\n",
            "Epoch 99/100\n",
            "3/3 [==============================] - 0s 4ms/step - loss: 0.1772 - mse: 0.1772\n",
            "Epoch 100/100\n",
            "3/3 [==============================] - 0s 4ms/step - loss: 0.1767 - mse: 0.1767\n"
          ]
        },
        {
          "output_type": "execute_result",
          "data": {
            "text/plain": [
              "<keras.callbacks.History at 0x7f5bf4b13ed0>"
            ]
          },
          "metadata": {},
          "execution_count": 63
        }
      ]
    },
    {
      "cell_type": "markdown",
      "source": [
        "# Plot"
      ],
      "metadata": {
        "id": "wwnqoo6rdPbQ"
      }
    },
    {
      "cell_type": "code",
      "source": [
        "y_pred_2=model_2.predict(X_test)"
      ],
      "metadata": {
        "id": "XU8S8QHsdOVQ"
      },
      "execution_count": 64,
      "outputs": []
    },
    {
      "cell_type": "code",
      "source": [
        "plot_preds(X_train,y_train,X_test,y_test,y_pred_2)"
      ],
      "metadata": {
        "colab": {
          "base_uri": "https://localhost:8080/",
          "height": 428
        },
        "id": "mjQEXn67dWJy",
        "outputId": "efec7f5d-4fd9-4eca-cab1-6e66f7689dfb"
      },
      "execution_count": 65,
      "outputs": [
        {
          "output_type": "display_data",
          "data": {
            "text/plain": [
              "<Figure size 720x504 with 1 Axes>"
            ],
            "image/png": "[encoded data removed]"
          },
          "metadata": {
            "needs_background": "light"
          }
        }
      ]
    },
    {
      "cell_type": "code",
      "source": [
        "mse3=mse(y_test,tf.squeeze(y_pred_2))\n",
        "mse3"
      ],
      "metadata": {
        "colab": {
          "base_uri": "https://localhost:8080/"
        },
        "id": "yBq5JfcRdikD",
        "outputId": "636c3c5b-2184-41ec-bb9c-591392127b52"
      },
      "execution_count": 75,
      "outputs": [
        {
          "output_type": "execute_result",
          "data": {
            "text/plain": [
              "<tf.Tensor: shape=(), dtype=float32, numpy=1.9455426>"
            ]
          },
          "metadata": {},
          "execution_count": 75
        }
      ]
    },
    {
      "cell_type": "code",
      "source": [
        "mae3=mae(y_test,tf.squeeze(y_pred_2))\n",
        "mae3"
      ],
      "metadata": {
        "colab": {
          "base_uri": "https://localhost:8080/"
        },
        "id": "KJT4K13he5S9",
        "outputId": "0ff850d7-e0b6-4e58-fd68-93bfe549a34b"
      },
      "execution_count": 73,
      "outputs": [
        {
          "output_type": "execute_result",
          "data": {
            "text/plain": [
              "<tf.Tensor: shape=(), dtype=float32, numpy=1.3402941>"
            ]
          },
          "metadata": {},
          "execution_count": 73
        }
      ]
    },
    {
      "cell_type": "markdown",
      "source": [
        "#Comparing results of two models"
      ],
      "metadata": {
        "id": "hDiiMNwHeFFz"
      }
    },
    {
      "cell_type": "code",
      "source": [
        "import pandas as pd"
      ],
      "metadata": {
        "id": "jksKhdZIeH2U"
      },
      "execution_count": 71,
      "outputs": []
    },
    {
      "cell_type": "code",
      "source": [
        "model_results=[['model_1',mae_2.numpy(),mse_2.numpy()],\n",
        "               ['model_2',mae3.numpy(),mse3.numpy()]]"
      ],
      "metadata": {
        "id": "rj6M9QOAen2Q"
      },
      "execution_count": 81,
      "outputs": []
    },
    {
      "cell_type": "code",
      "source": [
        "results= pd.DataFrame(model_results,columns=['model_name','mae','mse'])\n",
        "results"
      ],
      "metadata": {
        "colab": {
          "base_uri": "https://localhost:8080/",
          "height": 111
        },
        "id": "Lvyg6A13fGUK",
        "outputId": "8746bf39-ee41-4091-b7ec-efdc96dfb0cd"
      },
      "execution_count": 82,
      "outputs": [
        {
          "output_type": "execute_result",
          "data": {
            "text/plain": [
              "  model_name        mae          mse\n",
              "0    model_1  73.792938  5564.317871\n",
              "1    model_2   1.340294     1.945543"
            ],
            "text/html": [
              "\n",
              "  <div id=\"df-c7695ddf-cb6b-48e3-9a8a-b6527d8920ab\">\n",
              "    <div class=\"colab-df-container\">\n",
              "      <div>\n",
              "<style scoped>\n",
              "    .dataframe tbody tr th:only-of-type {\n",
              "        vertical-align: middle;\n",
              "    }\n",
              "\n",
              "    .dataframe tbody tr th {\n",
              "        vertical-align: top;\n",
              "    }\n",
              "\n",
              "    .dataframe thead th {\n",
              "        text-align: right;\n",
              "    }\n",
              "</style>\n",
              "<table border=\"1\" class=\"dataframe\">\n",
              "  <thead>\n",
              "    <tr style=\"text-align: right;\">\n",
              "      <th></th>\n",
              "      <th>model_name</th>\n",
              "      <th>mae</th>\n",
              "      <th>mse</th>\n",
              "    </tr>\n",
              "  </thead>\n",
              "  <tbody>\n",
              "    <tr>\n",
              "      <th>0</th>\n",
              "      <td>model_1</td>\n",
              "      <td>73.792938</td>\n",
              "      <td>5564.317871</td>\n",
              "    </tr>\n",
              "    <tr>\n",
              "      <th>1</th>\n",
              "      <td>model_2</td>\n",
              "      <td>1.340294</td>\n",
              "      <td>1.945543</td>\n",
              "    </tr>\n",
              "  </tbody>\n",
              "</table>\n",
              "</div>\n",
              "      <button class=\"colab-df-convert\" onclick=\"convertToInteractive('df-c7695ddf-cb6b-48e3-9a8a-b6527d8920ab')\"\n",
              "              title=\"Convert this dataframe to an interactive table.\"\n",
              "              style=\"display:none;\">\n",
              "        \n",
              "  <svg xmlns=\"http://www.w3.org/2000/svg\" height=\"24px\"viewBox=\"0 0 24 24\"\n",
              "       width=\"24px\">\n",
              "    <path d=\"M0 0h24v24H0V0z\" fill=\"none\"/>\n",
              "    <path d=\"M18.56 5.44l.94 2.06.94-2.06 2.06-.94-2.06-.94-.94-2.06-.94 2.06-2.06.94zm-11 1L8.5 8.5l.94-2.06 2.06-.94-2.06-.94L8.5 2.5l-.94 2.06-2.06.94zm10 10l.94 2.06.94-2.06 2.06-.94-2.06-.94-.94-2.06-.94 2.06-2.06.94z\"/><path d=\"M17.41 7.96l-1.37-1.37c-.4-.4-.92-.59-1.43-.59-.52 0-1.04.2-1.43.59L10.3 9.45l-7.72 7.72c-.78.78-.78 2.05 0 2.83L4 21.41c.39.39.9.59 1.41.59.51 0 1.02-.2 1.41-.59l7.78-7.78 2.81-2.81c.8-.78.8-2.07 0-2.86zM5.41 20L4 18.59l7.72-7.72 1.47 1.35L5.41 20z\"/>\n",
              "  </svg>\n",
              "      </button>\n",
              "      \n",
              "  <style>\n",
              "    .colab-df-container {\n",
              "      display:flex;\n",
              "      flex-wrap:wrap;\n",
              "      gap: 12px;\n",
              "    }\n",
              "\n",
              "    .colab-df-convert {\n",
              "      background-color: #E8F0FE;\n",
              "      border: none;\n",
              "      border-radius: 50%;\n",
              "      cursor: pointer;\n",
              "      display: none;\n",
              "      fill: #1967D2;\n",
              "      height: 32px;\n",
              "      padding: 0 0 0 0;\n",
              "      width: 32px;\n",
              "    }\n",
              "\n",
              "    .colab-df-convert:hover {\n",
              "      background-color: #E2EBFA;\n",
              "      box-shadow: 0px 1px 2px rgba(60, 64, 67, 0.3), 0px 1px 3px 1px rgba(60, 64, 67, 0.15);\n",
              "      fill: #174EA6;\n",
              "    }\n",
              "\n",
              "    [theme=dark] .colab-df-convert {\n",
              "      background-color: #3B4455;\n",
              "      fill: #D2E3FC;\n",
              "    }\n",
              "\n",
              "    [theme=dark] .colab-df-convert:hover {\n",
              "      background-color: #434B5C;\n",
              "      box-shadow: 0px 1px 3px 1px rgba(0, 0, 0, 0.15);\n",
              "      filter: drop-shadow(0px 1px 2px rgba(0, 0, 0, 0.3));\n",
              "      fill: #FFFFFF;\n",
              "    }\n",
              "  </style>\n",
              "\n",
              "      <script>\n",
              "        const buttonEl =\n",
              "          document.querySelector('#df-c7695ddf-cb6b-48e3-9a8a-b6527d8920ab button.colab-df-convert');\n",
              "        buttonEl.style.display =\n",
              "          google.colab.kernel.accessAllowed ? 'block' : 'none';\n",
              "\n",
              "        async function convertToInteractive(key) {\n",
              "          const element = document.querySelector('#df-c7695ddf-cb6b-48e3-9a8a-b6527d8920ab');\n",
              "          const dataTable =\n",
              "            await google.colab.kernel.invokeFunction('convertToInteractive',\n",
              "                                                     [key], {});\n",
              "          if (!dataTable) return;\n",
              "\n",
              "          const docLinkHtml = 'Like what you see? Visit the ' +\n",
              "            '<a target=\"_blank\" href=https://colab.research.google.com/notebooks/data_table.ipynb>data table notebook</a>'\n",
              "            + ' to learn more about interactive tables.';\n",
              "          element.innerHTML = '';\n",
              "          dataTable['output_type'] = 'display_data';\n",
              "          await google.colab.output.renderOutput(dataTable, element);\n",
              "          const docLink = document.createElement('div');\n",
              "          docLink.innerHTML = docLinkHtml;\n",
              "          element.appendChild(docLink);\n",
              "        }\n",
              "      </script>\n",
              "    </div>\n",
              "  </div>\n",
              "  "
            ]
          },
          "metadata": {},
          "execution_count": 82
        }
      ]
    },
    {
      "cell_type": "markdown",
      "source": [
        "# Saving models"
      ],
      "metadata": {
        "id": "0maxggiagepD"
      }
    },
    {
      "cell_type": "markdown",
      "source": [
        "## Saved Model Format"
      ],
      "metadata": {
        "id": "mIfUVFUZgl3Z"
      }
    },
    {
      "cell_type": "code",
      "source": [
        "model_2.save(\"Regression_Best_Model\")\n",
        "#.pb extension is a PureBasic Programming Language"
      ],
      "metadata": {
        "id": "KPOi-APjfg37"
      },
      "execution_count": 83,
      "outputs": []
    },
    {
      "cell_type": "markdown",
      "source": [
        "## HDH5 format"
      ],
      "metadata": {
        "id": "bcsGeRMVhKHl"
      }
    },
    {
      "cell_type": "code",
      "source": [
        "model_2.save(\"Model.h5\")"
      ],
      "metadata": {
        "id": "Yb1ljuykgxr4"
      },
      "execution_count": 84,
      "outputs": []
    },
    {
      "cell_type": "markdown",
      "source": [
        "#loading the models"
      ],
      "metadata": {
        "id": "jv5g-DkEjlxD"
      }
    },
    {
      "cell_type": "code",
      "source": [
        "loaded_SavedModel=tf.keras.models.load_model('/content/Regression_Best_Model')\n",
        "loaded_SavedModel.summary()\n"
      ],
      "metadata": {
        "colab": {
          "base_uri": "https://localhost:8080/"
        },
        "id": "zVCORZa0jjU-",
        "outputId": "30248b15-0e95-48d8-8983-b203857cb117"
      },
      "execution_count": 85,
      "outputs": [
        {
          "output_type": "stream",
          "name": "stdout",
          "text": [
            "Model: \"sequential_5\"\n",
            "_________________________________________________________________\n",
            " Layer (type)                Output Shape              Param #   \n",
            "=================================================================\n",
            " dense_6 (Dense)             (None, 100)               200       \n",
            "                                                                 \n",
            " dense_7 (Dense)             (None, 1)                 101       \n",
            "                                                                 \n",
            "=================================================================\n",
            "Total params: 301\n",
            "Trainable params: 301\n",
            "Non-trainable params: 0\n",
            "_________________________________________________________________\n"
          ]
        }
      ]
    },
    {
      "cell_type": "code",
      "source": [
        "loaded_Hdh5=tf.keras.models.load_model('/content/Model.h5')\n",
        "loaded_Hdh5.summary()"
      ],
      "metadata": {
        "colab": {
          "base_uri": "https://localhost:8080/"
        },
        "id": "2kC53148kAP5",
        "outputId": "e77503a6-63fc-42f8-bd18-28ba8ef085e2"
      },
      "execution_count": 86,
      "outputs": [
        {
          "output_type": "stream",
          "name": "stdout",
          "text": [
            "Model: \"sequential_5\"\n",
            "_________________________________________________________________\n",
            " Layer (type)                Output Shape              Param #   \n",
            "=================================================================\n",
            " dense_6 (Dense)             (None, 100)               200       \n",
            "                                                                 \n",
            " dense_7 (Dense)             (None, 1)                 101       \n",
            "                                                                 \n",
            "=================================================================\n",
            "Total params: 301\n",
            "Trainable params: 301\n",
            "Non-trainable params: 0\n",
            "_________________________________________________________________\n"
          ]
        }
      ]
    },
    {
      "cell_type": "code",
      "source": [
        "tf.squeeze(loaded_SavedModel(X_test,y_test))"
      ],
      "metadata": {
        "colab": {
          "base_uri": "https://localhost:8080/"
        },
        "id": "V-oKwjIzkKoM",
        "outputId": "f0cb77c9-8e06-4dec-a38f-63106a38b17e"
      },
      "execution_count": 89,
      "outputs": [
        {
          "output_type": "execute_result",
          "data": {
            "text/plain": [
              "<tf.Tensor: shape=(20,), dtype=float32, numpy=\n",
              "array([58.29598 , 60.229004, 62.162025, 64.09505 , 66.028076, 67.961105,\n",
              "       69.89413 , 71.827156, 73.76017 , 75.6932  , 77.62622 , 79.55924 ,\n",
              "       81.49226 , 83.425285, 85.358315, 87.29133 , 89.224365, 91.15738 ,\n",
              "       93.09041 , 95.02342 ], dtype=float32)>"
            ]
          },
          "metadata": {},
          "execution_count": 89
        }
      ]
    },
    {
      "cell_type": "code",
      "source": [
        "tf.squeeze(y_pred_2)"
      ],
      "metadata": {
        "colab": {
          "base_uri": "https://localhost:8080/"
        },
        "id": "hgwCbYnnk25u",
        "outputId": "b5b5d68a-2cc7-478d-a85f-dd0236e59a3c"
      },
      "execution_count": 92,
      "outputs": [
        {
          "output_type": "execute_result",
          "data": {
            "text/plain": [
              "<tf.Tensor: shape=(20,), dtype=float32, numpy=\n",
              "array([58.29598 , 60.229004, 62.162025, 64.09505 , 66.028076, 67.961105,\n",
              "       69.89413 , 71.827156, 73.76017 , 75.6932  , 77.62622 , 79.55924 ,\n",
              "       81.49226 , 83.425285, 85.358315, 87.29133 , 89.224365, 91.15738 ,\n",
              "       93.09041 , 95.02342 ], dtype=float32)>"
            ]
          },
          "metadata": {},
          "execution_count": 92
        }
      ]
    },
    {
      "cell_type": "code",
      "source": [
        "y_pred_2==loaded_SavedModel(X_test,y_test)"
      ],
      "metadata": {
        "colab": {
          "base_uri": "https://localhost:8080/"
        },
        "id": "cAWihlATlKt_",
        "outputId": "ac39a7a3-1215-4ab5-c665-94fb0fec92fa"
      },
      "execution_count": 93,
      "outputs": [
        {
          "output_type": "execute_result",
          "data": {
            "text/plain": [
              "<tf.Tensor: shape=(20, 1), dtype=bool, numpy=\n",
              "array([[ True],\n",
              "       [ True],\n",
              "       [ True],\n",
              "       [ True],\n",
              "       [ True],\n",
              "       [ True],\n",
              "       [ True],\n",
              "       [ True],\n",
              "       [ True],\n",
              "       [ True],\n",
              "       [ True],\n",
              "       [ True],\n",
              "       [ True],\n",
              "       [ True],\n",
              "       [ True],\n",
              "       [ True],\n",
              "       [ True],\n",
              "       [ True],\n",
              "       [ True],\n",
              "       [ True]])>"
            ]
          },
          "metadata": {},
          "execution_count": 93
        }
      ]
    },
    {
      "cell_type": "code",
      "source": [
        "#Same results..the loaded model is accurate"
      ],
      "metadata": {
        "id": "uynO9GwflQfT"
      },
      "execution_count": 94,
      "outputs": []
    },
    {
      "cell_type": "markdown",
      "source": [
        "## Downloading the models"
      ],
      "metadata": {
        "id": "jrCRyQWGmKgN"
      }
    },
    {
      "cell_type": "markdown",
      "source": [
        "### 1. Direct Download\n",
        "### 2. Code"
      ],
      "metadata": {
        "id": "IEakYT_8mN22"
      }
    },
    {
      "cell_type": "code",
      "source": [
        "from google.colab import files\n",
        "files.download('/content/Model.h5')"
      ],
      "metadata": {
        "colab": {
          "base_uri": "https://localhost:8080/",
          "height": 34
        },
        "id": "2OqQ15lXlVWV",
        "outputId": "9c90dbba-e67f-446d-d6bd-dd23aa05d577"
      },
      "execution_count": 95,
      "outputs": [
        {
          "output_type": "display_data",
          "data": {
            "text/plain": [
              "<IPython.core.display.Javascript object>"
            ],
            "application/javascript": [
              "\n",
              "    async function download(id, filename, size) {\n",
              "      if (!google.colab.kernel.accessAllowed) {\n",
              "        return;\n",
              "      }\n",
              "      const div = document.createElement('div');\n",
              "      const label = document.createElement('label');\n",
              "      label.textContent = `Downloading \"${filename}\": `;\n",
              "      div.appendChild(label);\n",
              "      const progress = document.createElement('progress');\n",
              "      progress.max = size;\n",
              "      div.appendChild(progress);\n",
              "      document.body.appendChild(div);\n",
              "\n",
              "      const buffers = [];\n",
              "      let downloaded = 0;\n",
              "\n",
              "      const channel = await google.colab.kernel.comms.open(id);\n",
              "      // Send a message to notify the kernel that we're ready.\n",
              "      channel.send({})\n",
              "\n",
              "      for await (const message of channel.messages) {\n",
              "        // Send a message to notify the kernel that we're ready.\n",
              "        channel.send({})\n",
              "        if (message.buffers) {\n",
              "          for (const buffer of message.buffers) {\n",
              "            buffers.push(buffer);\n",
              "            downloaded += buffer.byteLength;\n",
              "            progress.value = downloaded;\n",
              "          }\n",
              "        }\n",
              "      }\n",
              "      const blob = new Blob(buffers, {type: 'application/binary'});\n",
              "      const a = document.createElement('a');\n",
              "      a.href = window.URL.createObjectURL(blob);\n",
              "      a.download = filename;\n",
              "      div.appendChild(a);\n",
              "      a.click();\n",
              "      div.remove();\n",
              "    }\n",
              "  "
            ]
          },
          "metadata": {}
        },
        {
          "output_type": "display_data",
          "data": {
            "text/plain": [
              "<IPython.core.display.Javascript object>"
            ],
            "application/javascript": [
              "download(\"download_75935263-4994-45a8-af49-7a772fbd6838\", \"Model.h5\", 28416)"
            ]
          },
          "metadata": {}
        }
      ]
    },
    {
      "cell_type": "code",
      "source": [
        "from google.colab import files\n",
        "files.download('/content/Regression_Best_Model')"
      ],
      "metadata": {
        "colab": {
          "base_uri": "https://localhost:8080/",
          "height": 34
        },
        "id": "_8_MLhHLmhMG",
        "outputId": "d4542e4c-55bc-4573-d07c-cf8bb1cdd7ae"
      },
      "execution_count": 96,
      "outputs": [
        {
          "output_type": "display_data",
          "data": {
            "text/plain": [
              "<IPython.core.display.Javascript object>"
            ],
            "application/javascript": [
              "\n",
              "    async function download(id, filename, size) {\n",
              "      if (!google.colab.kernel.accessAllowed) {\n",
              "        return;\n",
              "      }\n",
              "      const div = document.createElement('div');\n",
              "      const label = document.createElement('label');\n",
              "      label.textContent = `Downloading \"${filename}\": `;\n",
              "      div.appendChild(label);\n",
              "      const progress = document.createElement('progress');\n",
              "      progress.max = size;\n",
              "      div.appendChild(progress);\n",
              "      document.body.appendChild(div);\n",
              "\n",
              "      const buffers = [];\n",
              "      let downloaded = 0;\n",
              "\n",
              "      const channel = await google.colab.kernel.comms.open(id);\n",
              "      // Send a message to notify the kernel that we're ready.\n",
              "      channel.send({})\n",
              "\n",
              "      for await (const message of channel.messages) {\n",
              "        // Send a message to notify the kernel that we're ready.\n",
              "        channel.send({})\n",
              "        if (message.buffers) {\n",
              "          for (const buffer of message.buffers) {\n",
              "            buffers.push(buffer);\n",
              "            downloaded += buffer.byteLength;\n",
              "            progress.value = downloaded;\n",
              "          }\n",
              "        }\n",
              "      }\n",
              "      const blob = new Blob(buffers, {type: 'application/binary'});\n",
              "      const a = document.createElement('a');\n",
              "      a.href = window.URL.createObjectURL(blob);\n",
              "      a.download = filename;\n",
              "      div.appendChild(a);\n",
              "      a.click();\n",
              "      div.remove();\n",
              "    }\n",
              "  "
            ]
          },
          "metadata": {}
        },
        {
          "output_type": "display_data",
          "data": {
            "text/plain": [
              "<IPython.core.display.Javascript object>"
            ],
            "application/javascript": [
              "download(\"download_376209b9-f31e-41d6-83c2-624d1733675a\", \"Regression_Best_Model\", 4096)"
            ]
          },
          "metadata": {}
        }
      ]
    },
    {
      "cell_type": "markdown",
      "source": [
        "### 3. Gogle Drive"
      ],
      "metadata": {
        "id": "4PxWoPUtmuxL"
      }
    },
    {
      "cell_type": "code",
      "source": [
        "!cp /content/model.png /content/drive/MyDrive"
      ],
      "metadata": {
        "id": "n57DTYtnmuKa"
      },
      "execution_count": 97,
      "outputs": []
    }
  ]
}