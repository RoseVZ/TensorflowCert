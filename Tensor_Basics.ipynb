{
  "nbformat": 4,
  "nbformat_minor": 0,
  "metadata": {
    "colab": {
      "name": "Tensor Basics.ipynb",
      "provenance": [],
      "authorship_tag": "ABX9TyPA76BqmOkBhZ+HP0GYmWyd",
      "include_colab_link": true
    },
    "kernelspec": {
      "name": "python3",
      "display_name": "Python 3"
    },
    "language_info": {
      "name": "python"
    }
  },
  "cells": [
    {
      "cell_type": "markdown",
      "metadata": {
        "id": "view-in-github",
        "colab_type": "text"
      },
      "source": [
        "<a href=\"https://colab.research.google.com/github/RoseVZ/TensorflowCert/blob/main/Tensor_Basics.ipynb\" target=\"_parent\"><img src=\"https://colab.research.google.com/assets/colab-badge.svg\" alt=\"Open In Colab\"/></a>"
      ]
    },
    {
      "cell_type": "code",
      "execution_count": 2,
      "metadata": {
        "colab": {
          "base_uri": "https://localhost:8080/"
        },
        "id": "okab8vk4_ahU",
        "outputId": "0a0480d6-ef09-4e93-83e1-9878496eccca"
      },
      "outputs": [
        {
          "output_type": "stream",
          "name": "stdout",
          "text": [
            "2.8.2\n"
          ]
        }
      ],
      "source": [
        " import tensorflow as tf\n",
        " print(tf.__version__)"
      ]
    },
    {
      "cell_type": "markdown",
      "source": [
        "## Creation of Scalars"
      ],
      "metadata": {
        "id": "0ju2Nw2EDMrq"
      }
    },
    {
      "cell_type": "code",
      "source": [
        "scalar  = tf.constant(7)\n",
        "scalar"
      ],
      "metadata": {
        "id": "fB6vMMG7DR-i",
        "outputId": "4a5b703b-f469-429f-dfd9-4470496c4147",
        "colab": {
          "base_uri": "https://localhost:8080/"
        }
      },
      "execution_count": 2,
      "outputs": [
        {
          "output_type": "execute_result",
          "data": {
            "text/plain": [
              "<tf.Tensor: shape=(), dtype=int32, numpy=7>"
            ]
          },
          "metadata": {},
          "execution_count": 2
        }
      ]
    },
    {
      "cell_type": "code",
      "source": [
        "vector= tf.constant([2,3])\n",
        "vector"
      ],
      "metadata": {
        "colab": {
          "base_uri": "https://localhost:8080/"
        },
        "id": "Kd4hJe2d_xXu",
        "outputId": "c216bacf-e70b-4121-fd59-61ae0abd7e3f"
      },
      "execution_count": 3,
      "outputs": [
        {
          "output_type": "execute_result",
          "data": {
            "text/plain": [
              "<tf.Tensor: shape=(2,), dtype=int32, numpy=array([2, 3], dtype=int32)>"
            ]
          },
          "metadata": {},
          "execution_count": 3
        }
      ]
    },
    {
      "cell_type": "code",
      "source": [
        "#no of dimension\n",
        "vector.ndim"
      ],
      "metadata": {
        "colab": {
          "base_uri": "https://localhost:8080/"
        },
        "id": "tt9d1b47AhAq",
        "outputId": "108af694-d7e0-4c81-b13e-c5eb8b861da0"
      },
      "execution_count": 4,
      "outputs": [
        {
          "output_type": "execute_result",
          "data": {
            "text/plain": [
              "1"
            ]
          },
          "metadata": {},
          "execution_count": 4
        }
      ]
    },
    {
      "cell_type": "code",
      "source": [
        "#tensor\n",
        "tensor = tf.constant([[[3,4],\n",
        "                      [6,5],\n",
        "                      [3,5]\n",
        "                   \n",
        "],[[3,4],[4,5],[4,5]]])\n",
        "tensor\n"
      ],
      "metadata": {
        "id": "8XCB4qyvGHGU",
        "outputId": "43ea4943-a6db-4168-9999-d315f774c37b",
        "colab": {
          "base_uri": "https://localhost:8080/"
        }
      },
      "execution_count": 5,
      "outputs": [
        {
          "output_type": "execute_result",
          "data": {
            "text/plain": [
              "<tf.Tensor: shape=(2, 3, 2), dtype=int32, numpy=\n",
              "array([[[3, 4],\n",
              "        [6, 5],\n",
              "        [3, 5]],\n",
              "\n",
              "       [[3, 4],\n",
              "        [4, 5],\n",
              "        [4, 5]]], dtype=int32)>"
            ]
          },
          "metadata": {},
          "execution_count": 5
        }
      ]
    },
    {
      "cell_type": "code",
      "source": [
        "tensor.ndim"
      ],
      "metadata": {
        "id": "gLfr8rN5ICgP",
        "outputId": "46e6a2d9-c04d-41ea-9bf8-95cb41411a88",
        "colab": {
          "base_uri": "https://localhost:8080/"
        }
      },
      "execution_count": 6,
      "outputs": [
        {
          "output_type": "execute_result",
          "data": {
            "text/plain": [
              "3"
            ]
          },
          "metadata": {},
          "execution_count": 6
        }
      ]
    },
    {
      "cell_type": "code",
      "source": [
        "variable_tensor = tf.Variable([3,4])"
      ],
      "metadata": {
        "id": "jUyEKoieI_5X"
      },
      "execution_count": 7,
      "outputs": []
    },
    {
      "cell_type": "code",
      "source": [
        "variable_tensor[0].assign(7)"
      ],
      "metadata": {
        "id": "uKbH9jMgJpRb",
        "outputId": "06e7e42c-d6be-496b-d1d6-bdabe950985a",
        "colab": {
          "base_uri": "https://localhost:8080/"
        }
      },
      "execution_count": 8,
      "outputs": [
        {
          "output_type": "execute_result",
          "data": {
            "text/plain": [
              "<tf.Variable 'UnreadVariable' shape=(2,) dtype=int32, numpy=array([7, 4], dtype=int32)>"
            ]
          },
          "metadata": {},
          "execution_count": 8
        }
      ]
    },
    {
      "cell_type": "code",
      "source": [
        "print(variable_tensor)"
      ],
      "metadata": {
        "id": "rWYN4-nCJwYf",
        "outputId": "8cae5b2a-0d7b-4fc0-bc81-8c91ca4dd6ee",
        "colab": {
          "base_uri": "https://localhost:8080/"
        }
      },
      "execution_count": 9,
      "outputs": [
        {
          "output_type": "stream",
          "name": "stdout",
          "text": [
            "<tf.Variable 'Variable:0' shape=(2,) dtype=int32, numpy=array([7, 4], dtype=int32)>\n"
          ]
        }
      ]
    },
    {
      "cell_type": "markdown",
      "source": [
        "## Random Tensors"
      ],
      "metadata": {
        "id": "ejTIOkl_Kcy2"
      }
    },
    {
      "cell_type": "code",
      "source": [
        "random_1= tf.random.Generator.from_seed(30)\n",
        "random_1 = random_1.normal(shape=(3,2))"
      ],
      "metadata": {
        "id": "krAV14VGKfWb"
      },
      "execution_count": 10,
      "outputs": []
    },
    {
      "cell_type": "code",
      "source": [
        "random_1"
      ],
      "metadata": {
        "id": "5ie4S7IULnro",
        "outputId": "203071b7-9413-4217-fd9a-956539a33057",
        "colab": {
          "base_uri": "https://localhost:8080/"
        }
      },
      "execution_count": 11,
      "outputs": [
        {
          "output_type": "execute_result",
          "data": {
            "text/plain": [
              "<tf.Tensor: shape=(3, 2), dtype=float32, numpy=\n",
              "array([[ 0.8357487 ,  0.20849545],\n",
              "       [ 1.4040174 , -2.735283  ],\n",
              "       [ 1.2232229 , -1.8653691 ]], dtype=float32)>"
            ]
          },
          "metadata": {},
          "execution_count": 11
        }
      ]
    },
    {
      "cell_type": "markdown",
      "source": [
        "## Shuffle Tensor "
      ],
      "metadata": {
        "id": "oW2r33nWNPBd"
      }
    },
    {
      "cell_type": "code",
      "source": [
        "unshuffled = tf.constant([[3,4],[7,8]])\n",
        "shuffled = tf.random.shuffle(unshuffled,seed = 3) #seed here is an operational seed\n",
        "shuffled"
      ],
      "metadata": {
        "id": "MugPqm5ANSkv",
        "outputId": "d19f0e3c-65b1-48b5-e2e7-0230c065cca8",
        "colab": {
          "base_uri": "https://localhost:8080/"
        }
      },
      "execution_count": 12,
      "outputs": [
        {
          "output_type": "execute_result",
          "data": {
            "text/plain": [
              "<tf.Tensor: shape=(2, 2), dtype=int32, numpy=\n",
              "array([[7, 8],\n",
              "       [3, 4]], dtype=int32)>"
            ]
          },
          "metadata": {},
          "execution_count": 12
        }
      ]
    },
    {
      "cell_type": "markdown",
      "source": [
        "##Set Seed"
      ],
      "metadata": {
        "id": "_PoHevy_OHmt"
      }
    },
    {
      "cell_type": "code",
      "source": [
        "#universal seed\n",
        "tf.random.set_seed(7)"
      ],
      "metadata": {
        "id": "cdeQwOndOTzu"
      },
      "execution_count": 13,
      "outputs": []
    },
    {
      "cell_type": "markdown",
      "source": [
        "## Creation of tensors in various ways"
      ],
      "metadata": {
        "id": "Vt8o7RviP0mW"
      }
    },
    {
      "cell_type": "code",
      "source": [
        "tf.ones((2,3))"
      ],
      "metadata": {
        "id": "IgqrP4L4P5BP",
        "outputId": "43a5a7af-2814-4219-ef31-e1d4830f0370",
        "colab": {
          "base_uri": "https://localhost:8080/"
        }
      },
      "execution_count": 14,
      "outputs": [
        {
          "output_type": "execute_result",
          "data": {
            "text/plain": [
              "<tf.Tensor: shape=(2, 3), dtype=float32, numpy=\n",
              "array([[1., 1., 1.],\n",
              "       [1., 1., 1.]], dtype=float32)>"
            ]
          },
          "metadata": {},
          "execution_count": 14
        }
      ]
    },
    {
      "cell_type": "code",
      "source": [
        "tf.zeros(shape= (4,2))"
      ],
      "metadata": {
        "id": "ZOky8reWP75t",
        "outputId": "6bca697f-a4ac-4f23-87b6-17bef4d79aa8",
        "colab": {
          "base_uri": "https://localhost:8080/"
        }
      },
      "execution_count": 15,
      "outputs": [
        {
          "output_type": "execute_result",
          "data": {
            "text/plain": [
              "<tf.Tensor: shape=(4, 2), dtype=float32, numpy=\n",
              "array([[0., 0.],\n",
              "       [0., 0.],\n",
              "       [0., 0.],\n",
              "       [0., 0.]], dtype=float32)>"
            ]
          },
          "metadata": {},
          "execution_count": 15
        }
      ]
    },
    {
      "cell_type": "markdown",
      "source": [
        "## Numpy to Tf"
      ],
      "metadata": {
        "id": "9VXI5iUAQBFp"
      }
    },
    {
      "cell_type": "code",
      "source": [
        "import numpy as np"
      ],
      "metadata": {
        "id": "o1ZWCfVvQP5E"
      },
      "execution_count": 16,
      "outputs": []
    },
    {
      "cell_type": "code",
      "source": [
        "np_array = np.arange(1,5, dtype= np.int32)\n",
        "np_array"
      ],
      "metadata": {
        "id": "x8amwvNSQEqZ",
        "outputId": "7c7a9658-4525-4747-9157-457349ed8f38",
        "colab": {
          "base_uri": "https://localhost:8080/"
        }
      },
      "execution_count": 17,
      "outputs": [
        {
          "output_type": "execute_result",
          "data": {
            "text/plain": [
              "array([1, 2, 3, 4], dtype=int32)"
            ]
          },
          "metadata": {},
          "execution_count": 17
        }
      ]
    },
    {
      "cell_type": "code",
      "source": [
        "#conversion\n",
        "tf.constant(np_array, shape=(2,2))"
      ],
      "metadata": {
        "id": "YSxnuFc7QjR8",
        "outputId": "8259f0d5-b47d-4dcf-e046-946109842b09",
        "colab": {
          "base_uri": "https://localhost:8080/"
        }
      },
      "execution_count": 18,
      "outputs": [
        {
          "output_type": "execute_result",
          "data": {
            "text/plain": [
              "<tf.Tensor: shape=(2, 2), dtype=int32, numpy=\n",
              "array([[1, 2],\n",
              "       [3, 4]], dtype=int32)>"
            ]
          },
          "metadata": {},
          "execution_count": 18
        }
      ]
    },
    {
      "cell_type": "markdown",
      "source": [
        "## Tensor Atributes"
      ],
      "metadata": {
        "id": "OuNZiNJxRclE"
      }
    },
    {
      "cell_type": "code",
      "source": [
        "rank_4_tensor = tf.ones(shape=[2,3,4,5])\n",
        "rank_4_tensor"
      ],
      "metadata": {
        "id": "ZMbFS5XBRhZN",
        "outputId": "5a23c1c8-8754-4aa6-9185-2ae3eb874b32",
        "colab": {
          "base_uri": "https://localhost:8080/"
        }
      },
      "execution_count": 21,
      "outputs": [
        {
          "output_type": "execute_result",
          "data": {
            "text/plain": [
              "<tf.Tensor: shape=(2, 3, 4, 5), dtype=float32, numpy=\n",
              "array([[[[1., 1., 1., 1., 1.],\n",
              "         [1., 1., 1., 1., 1.],\n",
              "         [1., 1., 1., 1., 1.],\n",
              "         [1., 1., 1., 1., 1.]],\n",
              "\n",
              "        [[1., 1., 1., 1., 1.],\n",
              "         [1., 1., 1., 1., 1.],\n",
              "         [1., 1., 1., 1., 1.],\n",
              "         [1., 1., 1., 1., 1.]],\n",
              "\n",
              "        [[1., 1., 1., 1., 1.],\n",
              "         [1., 1., 1., 1., 1.],\n",
              "         [1., 1., 1., 1., 1.],\n",
              "         [1., 1., 1., 1., 1.]]],\n",
              "\n",
              "\n",
              "       [[[1., 1., 1., 1., 1.],\n",
              "         [1., 1., 1., 1., 1.],\n",
              "         [1., 1., 1., 1., 1.],\n",
              "         [1., 1., 1., 1., 1.]],\n",
              "\n",
              "        [[1., 1., 1., 1., 1.],\n",
              "         [1., 1., 1., 1., 1.],\n",
              "         [1., 1., 1., 1., 1.],\n",
              "         [1., 1., 1., 1., 1.]],\n",
              "\n",
              "        [[1., 1., 1., 1., 1.],\n",
              "         [1., 1., 1., 1., 1.],\n",
              "         [1., 1., 1., 1., 1.],\n",
              "         [1., 1., 1., 1., 1.]]]], dtype=float32)>"
            ]
          },
          "metadata": {},
          "execution_count": 21
        }
      ]
    },
    {
      "cell_type": "code",
      "source": [
        "rank_4_tensor.ndim, tf.size(rank_4_tensor), tf.shape(rank_4_tensor)"
      ],
      "metadata": {
        "id": "4mGFtW0qzlwr",
        "outputId": "c7519211-b17d-4ae7-ef29-86e1ebd7e9f2",
        "colab": {
          "base_uri": "https://localhost:8080/"
        }
      },
      "execution_count": 24,
      "outputs": [
        {
          "output_type": "execute_result",
          "data": {
            "text/plain": [
              "(4,\n",
              " <tf.Tensor: shape=(), dtype=int32, numpy=120>,\n",
              " <tf.Tensor: shape=(4,), dtype=int32, numpy=array([2, 3, 4, 5], dtype=int32)>)"
            ]
          },
          "metadata": {},
          "execution_count": 24
        }
      ]
    },
    {
      "cell_type": "code",
      "source": [
        "print(\"Datatype\",rank_4_tensor.dtype )\n",
        "print(\"Dimensions\",rank_4_tensor.ndim)\n",
        "print(\"Shape of tensor\", tf.shape(rank_4_tensor))\n",
        "print(\"Element of 0th place\", rank_4_tensor[0])\n",
        "print(\"Size of tensor\", tf.size(rank_4_tensor))"
      ],
      "metadata": {
        "id": "b8G0ZCj6z8QT",
        "outputId": "2e4d001f-721a-4fad-a882-6c08d300e930",
        "colab": {
          "base_uri": "https://localhost:8080/"
        }
      },
      "execution_count": 26,
      "outputs": [
        {
          "output_type": "stream",
          "name": "stdout",
          "text": [
            "Datatype <dtype: 'float32'>\n",
            "Dimensions 4\n",
            "Shape of tensor tf.Tensor([2 3 4 5], shape=(4,), dtype=int32)\n",
            "Element of 0th place tf.Tensor(\n",
            "[[[1. 1. 1. 1. 1.]\n",
            "  [1. 1. 1. 1. 1.]\n",
            "  [1. 1. 1. 1. 1.]\n",
            "  [1. 1. 1. 1. 1.]]\n",
            "\n",
            " [[1. 1. 1. 1. 1.]\n",
            "  [1. 1. 1. 1. 1.]\n",
            "  [1. 1. 1. 1. 1.]\n",
            "  [1. 1. 1. 1. 1.]]\n",
            "\n",
            " [[1. 1. 1. 1. 1.]\n",
            "  [1. 1. 1. 1. 1.]\n",
            "  [1. 1. 1. 1. 1.]\n",
            "  [1. 1. 1. 1. 1.]]], shape=(3, 4, 5), dtype=float32)\n",
            "Size of tensor tf.Tensor(120, shape=(), dtype=int32)\n"
          ]
        }
      ]
    },
    {
      "cell_type": "markdown",
      "source": [
        "## Indexing a tensor"
      ],
      "metadata": {
        "id": "aYLIMDCx95YU"
      }
    },
    {
      "cell_type": "code",
      "source": [
        "rank_4_tensor[:1,:1,:1,:1\n",
        "              ]"
      ],
      "metadata": {
        "id": "SzkWzqIK996k",
        "outputId": "d0373dd6-116f-4324-b73e-3a9a5991b5ca",
        "colab": {
          "base_uri": "https://localhost:8080/"
        }
      },
      "execution_count": 27,
      "outputs": [
        {
          "output_type": "execute_result",
          "data": {
            "text/plain": [
              "<tf.Tensor: shape=(1, 1, 1, 1), dtype=float32, numpy=array([[[[1.]]]], dtype=float32)>"
            ]
          },
          "metadata": {},
          "execution_count": 27
        }
      ]
    },
    {
      "cell_type": "code",
      "source": [
        "#rank 2 tensor\n",
        "rank_2_tensor = tf.constant([[10,7],[12,3]])\n",
        "rank_2_tensor"
      ],
      "metadata": {
        "id": "2EahZGsW-HyD",
        "outputId": "6500fd1b-ab7f-4786-973e-305b6ca6cddc",
        "colab": {
          "base_uri": "https://localhost:8080/"
        }
      },
      "execution_count": 29,
      "outputs": [
        {
          "output_type": "execute_result",
          "data": {
            "text/plain": [
              "<tf.Tensor: shape=(2, 2), dtype=int32, numpy=\n",
              "array([[10,  7],\n",
              "       [12,  3]], dtype=int32)>"
            ]
          },
          "metadata": {},
          "execution_count": 29
        }
      ]
    },
    {
      "cell_type": "code",
      "source": [
        "#last index of every row\n",
        "rank_2_tensor[:,-1]"
      ],
      "metadata": {
        "id": "Wr6SKubV-zL_",
        "outputId": "583ac1fc-f332-4a9b-ed36-e240343303d4",
        "colab": {
          "base_uri": "https://localhost:8080/"
        }
      },
      "execution_count": 30,
      "outputs": [
        {
          "output_type": "execute_result",
          "data": {
            "text/plain": [
              "<tf.Tensor: shape=(2,), dtype=int32, numpy=array([7, 3], dtype=int32)>"
            ]
          },
          "metadata": {},
          "execution_count": 30
        }
      ]
    },
    {
      "cell_type": "code",
      "source": [
        "rank_3_tensor = rank_2_tensor[...,tf.newaxis]\n",
        "rank_3_tensor"
      ],
      "metadata": {
        "id": "93C-LoD1-zFV",
        "outputId": "70ede284-1257-4e47-c08b-86e24b947ab9",
        "colab": {
          "base_uri": "https://localhost:8080/"
        }
      },
      "execution_count": 31,
      "outputs": [
        {
          "output_type": "execute_result",
          "data": {
            "text/plain": [
              "<tf.Tensor: shape=(2, 2, 1), dtype=int32, numpy=\n",
              "array([[[10],\n",
              "        [ 7]],\n",
              "\n",
              "       [[12],\n",
              "        [ 3]]], dtype=int32)>"
            ]
          },
          "metadata": {},
          "execution_count": 31
        }
      ]
    },
    {
      "cell_type": "code",
      "source": [
        "rank_3_tensor.ndim"
      ],
      "metadata": {
        "id": "XtfwPwmc_pJU",
        "outputId": "e0034525-5bdb-413c-8e44-f2b3f3391a26",
        "colab": {
          "base_uri": "https://localhost:8080/"
        }
      },
      "execution_count": 32,
      "outputs": [
        {
          "output_type": "execute_result",
          "data": {
            "text/plain": [
              "3"
            ]
          },
          "metadata": {},
          "execution_count": 32
        }
      ]
    },
    {
      "cell_type": "code",
      "source": [
        "rank_3 = tf.expand_dims(rank_2_tensor,axis=-1)\n",
        "rank_3"
      ],
      "metadata": {
        "id": "enorfleq_s5N",
        "outputId": "d64f2811-3edc-4111-cfec-94ba0c688bee",
        "colab": {
          "base_uri": "https://localhost:8080/"
        }
      },
      "execution_count": 34,
      "outputs": [
        {
          "output_type": "execute_result",
          "data": {
            "text/plain": [
              "<tf.Tensor: shape=(2, 2, 1), dtype=int32, numpy=\n",
              "array([[[10],\n",
              "        [ 7]],\n",
              "\n",
              "       [[12],\n",
              "        [ 3]]], dtype=int32)>"
            ]
          },
          "metadata": {},
          "execution_count": 34
        }
      ]
    },
    {
      "cell_type": "markdown",
      "source": [
        "## Operations on Tensor\n"
      ],
      "metadata": {
        "id": "c0wVL4FhWKWZ"
      }
    },
    {
      "cell_type": "code",
      "source": [
        "tensor = tf.constant([[10,12],[10,20]])\n",
        "tensor+10"
      ],
      "metadata": {
        "id": "X4TilY7_WNQg",
        "outputId": "d523c067-4207-4094-81db-4620692750fc",
        "colab": {
          "base_uri": "https://localhost:8080/"
        }
      },
      "execution_count": 3,
      "outputs": [
        {
          "output_type": "execute_result",
          "data": {
            "text/plain": [
              "<tf.Tensor: shape=(2, 2), dtype=int32, numpy=\n",
              "array([[20, 22],\n",
              "       [20, 30]], dtype=int32)>"
            ]
          },
          "metadata": {},
          "execution_count": 3
        }
      ]
    },
    {
      "cell_type": "code",
      "source": [
        "tf.multiply(tensor,10)"
      ],
      "metadata": {
        "id": "7YVdIbSnW2Lw",
        "outputId": "b46505e2-ac87-447d-9200-3b1e8b64ba86",
        "colab": {
          "base_uri": "https://localhost:8080/"
        }
      },
      "execution_count": 4,
      "outputs": [
        {
          "output_type": "execute_result",
          "data": {
            "text/plain": [
              "<tf.Tensor: shape=(2, 2), dtype=int32, numpy=\n",
              "array([[100, 120],\n",
              "       [100, 200]], dtype=int32)>"
            ]
          },
          "metadata": {},
          "execution_count": 4
        }
      ]
    },
    {
      "cell_type": "code",
      "source": [
        "tensor"
      ],
      "metadata": {
        "id": "AK0PnX65XL3z",
        "outputId": "ca828660-54f3-416b-c264-84c134fe0719",
        "colab": {
          "base_uri": "https://localhost:8080/"
        }
      },
      "execution_count": 5,
      "outputs": [
        {
          "output_type": "execute_result",
          "data": {
            "text/plain": [
              "<tf.Tensor: shape=(2, 2), dtype=int32, numpy=\n",
              "array([[10, 12],\n",
              "       [10, 20]], dtype=int32)>"
            ]
          },
          "metadata": {},
          "execution_count": 5
        }
      ]
    },
    {
      "cell_type": "markdown",
      "source": [
        "## Matrix Multiplication\n"
      ],
      "metadata": {
        "id": "-TW70O-QXRLd"
      }
    },
    {
      "cell_type": "code",
      "source": [
        "tf.matmul(tensor,tensor)"
      ],
      "metadata": {
        "id": "XHT5BwPYXQ6o",
        "outputId": "c3a1d1c1-d4a6-4855-ef62-10595c846c79",
        "colab": {
          "base_uri": "https://localhost:8080/"
        }
      },
      "execution_count": 6,
      "outputs": [
        {
          "output_type": "execute_result",
          "data": {
            "text/plain": [
              "<tf.Tensor: shape=(2, 2), dtype=int32, numpy=\n",
              "array([[220, 360],\n",
              "       [300, 520]], dtype=int32)>"
            ]
          },
          "metadata": {},
          "execution_count": 6
        }
      ]
    },
    {
      "cell_type": "code",
      "source": [
        "tensor @ tensor"
      ],
      "metadata": {
        "id": "rZLxol2uXNgT",
        "outputId": "156a9ec6-8eb6-4407-bf31-40959bfcbef0",
        "colab": {
          "base_uri": "https://localhost:8080/"
        }
      },
      "execution_count": 7,
      "outputs": [
        {
          "output_type": "execute_result",
          "data": {
            "text/plain": [
              "<tf.Tensor: shape=(2, 2), dtype=int32, numpy=\n",
              "array([[220, 360],\n",
              "       [300, 520]], dtype=int32)>"
            ]
          },
          "metadata": {},
          "execution_count": 7
        }
      ]
    },
    {
      "cell_type": "code",
      "source": [
        "tensor*tensor"
      ],
      "metadata": {
        "id": "tyvGiIuwYiXA",
        "outputId": "d2fbcae0-b72a-4b5b-e054-45b6e846f884",
        "colab": {
          "base_uri": "https://localhost:8080/"
        }
      },
      "execution_count": 8,
      "outputs": [
        {
          "output_type": "execute_result",
          "data": {
            "text/plain": [
              "<tf.Tensor: shape=(2, 2), dtype=int32, numpy=\n",
              "array([[100, 144],\n",
              "       [100, 400]], dtype=int32)>"
            ]
          },
          "metadata": {},
          "execution_count": 8
        }
      ]
    },
    {
      "cell_type": "code",
      "source": [
        "tesor4 = tf.constant([2,2])\n",
        "tesor4.shape"
      ],
      "metadata": {
        "id": "Ghx1Kg7AZ8SW",
        "outputId": "dd734ae6-ac6b-4501-dbb9-0822fce14457",
        "colab": {
          "base_uri": "https://localhost:8080/"
        }
      },
      "execution_count": 9,
      "outputs": [
        {
          "output_type": "execute_result",
          "data": {
            "text/plain": [
              "TensorShape([2])"
            ]
          },
          "metadata": {},
          "execution_count": 9
        }
      ]
    },
    {
      "cell_type": "code",
      "source": [
        "tf.reshape(tesor4,shape=(2,1))"
      ],
      "metadata": {
        "id": "fpN3BAZvbb-C",
        "outputId": "d3db39ea-2dcc-432f-b483-35b07e8a2a60",
        "colab": {
          "base_uri": "https://localhost:8080/"
        }
      },
      "execution_count": 11,
      "outputs": [
        {
          "output_type": "execute_result",
          "data": {
            "text/plain": [
              "<tf.Tensor: shape=(2, 1), dtype=int32, numpy=\n",
              "array([[2],\n",
              "       [2]], dtype=int32)>"
            ]
          },
          "metadata": {},
          "execution_count": 11
        }
      ]
    },
    {
      "cell_type": "code",
      "source": [
        "tf.matmul(tensor,tf.reshape(tesor4,shape=(2,1)))"
      ],
      "metadata": {
        "id": "3d8mN97DboU_",
        "outputId": "ef4bd075-41f9-41dd-af39-b4337a20b764",
        "colab": {
          "base_uri": "https://localhost:8080/"
        }
      },
      "execution_count": 12,
      "outputs": [
        {
          "output_type": "execute_result",
          "data": {
            "text/plain": [
              "<tf.Tensor: shape=(2, 1), dtype=int32, numpy=\n",
              "array([[44],\n",
              "       [60]], dtype=int32)>"
            ]
          },
          "metadata": {},
          "execution_count": 12
        }
      ]
    },
    {
      "cell_type": "code",
      "source": [
        "\n",
        "#tensordot\n",
        "tf.tensordot(tensor,tf.reshape(tesor4,shape=(2,1)), axes=1)"
      ],
      "metadata": {
        "id": "onXgw4wdbuj6",
        "outputId": "acc45c62-957b-4339-f181-227a5caf766f",
        "colab": {
          "base_uri": "https://localhost:8080/"
        }
      },
      "execution_count": 14,
      "outputs": [
        {
          "output_type": "execute_result",
          "data": {
            "text/plain": [
              "<tf.Tensor: shape=(2, 1), dtype=int32, numpy=\n",
              "array([[44],\n",
              "       [60]], dtype=int32)>"
            ]
          },
          "metadata": {},
          "execution_count": 14
        }
      ]
    },
    {
      "cell_type": "markdown",
      "source": [
        "## Changing the Dtype"
      ],
      "metadata": {
        "id": "YmDtK15xc98y"
      }
    },
    {
      "cell_type": "code",
      "source": [
        "b=tf.constant([1.3])\n",
        "b.dtype"
      ],
      "metadata": {
        "id": "8RiCNgBodAdQ",
        "outputId": "fb2e5d6b-dabe-4bc5-c29f-ced0cff1b5f1",
        "colab": {
          "base_uri": "https://localhost:8080/"
        }
      },
      "execution_count": 15,
      "outputs": [
        {
          "output_type": "execute_result",
          "data": {
            "text/plain": [
              "tf.float32"
            ]
          },
          "metadata": {},
          "execution_count": 15
        }
      ]
    },
    {
      "cell_type": "code",
      "source": [
        "c=tf.constant([1,2])\n",
        "c.dtype"
      ],
      "metadata": {
        "id": "eR_nYu6DdGwM",
        "outputId": "121b85a4-173f-4ad6-d0b1-1db2e394b19c",
        "colab": {
          "base_uri": "https://localhost:8080/"
        }
      },
      "execution_count": 17,
      "outputs": [
        {
          "output_type": "execute_result",
          "data": {
            "text/plain": [
              "tf.int32"
            ]
          },
          "metadata": {},
          "execution_count": 17
        }
      ]
    },
    {
      "cell_type": "code",
      "source": [
        "b=tf.cast(b,dtype = tf.float16)\n",
        "b"
      ],
      "metadata": {
        "id": "Fe814g27dKLj",
        "outputId": "c7893ec7-48eb-453f-c4a5-2b983ea7c2ca",
        "colab": {
          "base_uri": "https://localhost:8080/"
        }
      },
      "execution_count": 18,
      "outputs": [
        {
          "output_type": "execute_result",
          "data": {
            "text/plain": [
              "<tf.Tensor: shape=(1,), dtype=float16, numpy=array([1.3], dtype=float16)>"
            ]
          },
          "metadata": {},
          "execution_count": 18
        }
      ]
    },
    {
      "cell_type": "code",
      "source": [
        "b=tf.cast(b,dtype = tf.int32)\n",
        "b"
      ],
      "metadata": {
        "id": "hg6rM424dpro",
        "outputId": "6817a2c9-c064-4120-cba7-f2c4a27b7d03",
        "colab": {
          "base_uri": "https://localhost:8080/"
        }
      },
      "execution_count": 20,
      "outputs": [
        {
          "output_type": "execute_result",
          "data": {
            "text/plain": [
              "<tf.Tensor: shape=(1,), dtype=int32, numpy=array([1], dtype=int32)>"
            ]
          },
          "metadata": {},
          "execution_count": 20
        }
      ]
    },
    {
      "cell_type": "code",
      "source": [
        ""
      ],
      "metadata": {
        "id": "qF6lU8D3dwjY"
      },
      "execution_count": null,
      "outputs": []
    }
  ]
}