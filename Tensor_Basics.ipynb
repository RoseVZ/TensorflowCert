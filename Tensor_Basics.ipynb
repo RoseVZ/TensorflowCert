{
  "nbformat": 4,
  "nbformat_minor": 0,
  "metadata": {
    "colab": {
      "name": "Tensor Basics.ipynb",
      "provenance": [],
      "authorship_tag": "ABX9TyMOrO0wzpafxKVGXqHzyXXA",
      "include_colab_link": true
    },
    "kernelspec": {
      "name": "python3",
      "display_name": "Python 3"
    },
    "language_info": {
      "name": "python"
    }
  },
  "cells": [
    {
      "cell_type": "markdown",
      "metadata": {
        "id": "view-in-github",
        "colab_type": "text"
      },
      "source": [
        "<a href=\"https://colab.research.google.com/github/RoseVZ/TensorflowCert/blob/main/Tensor_Basics.ipynb\" target=\"_parent\"><img src=\"https://colab.research.google.com/assets/colab-badge.svg\" alt=\"Open In Colab\"/></a>"
      ]
    },
    {
      "cell_type": "code",
      "execution_count": 14,
      "metadata": {
        "colab": {
          "base_uri": "https://localhost:8080/"
        },
        "id": "okab8vk4_ahU",
        "outputId": "47d40b24-d7b1-4dfe-8484-4eadf5c16f9d"
      },
      "outputs": [
        {
          "output_type": "stream",
          "name": "stdout",
          "text": [
            "2.8.2\n"
          ]
        }
      ],
      "source": [
        " import tensorflow as tf\n",
        " print(tf.__version__)"
      ]
    },
    {
      "cell_type": "markdown",
      "source": [
        "## Creation of Scalars"
      ],
      "metadata": {
        "id": "0ju2Nw2EDMrq"
      }
    },
    {
      "cell_type": "code",
      "source": [
        "scalar  = tf.constant(7)\n",
        "scalar"
      ],
      "metadata": {
        "id": "fB6vMMG7DR-i",
        "outputId": "27d7c6d5-266c-4442-854f-3ae889a0aea7",
        "colab": {
          "base_uri": "https://localhost:8080/"
        }
      },
      "execution_count": 20,
      "outputs": [
        {
          "output_type": "execute_result",
          "data": {
            "text/plain": [
              "<tf.Tensor: shape=(), dtype=int32, numpy=7>"
            ]
          },
          "metadata": {},
          "execution_count": 20
        }
      ]
    },
    {
      "cell_type": "code",
      "source": [
        "vector= tf.constant([2,3])\n",
        "vector"
      ],
      "metadata": {
        "colab": {
          "base_uri": "https://localhost:8080/"
        },
        "id": "Kd4hJe2d_xXu",
        "outputId": "6613f795-1d5e-4949-dade-9d0869fe549a"
      },
      "execution_count": 15,
      "outputs": [
        {
          "output_type": "execute_result",
          "data": {
            "text/plain": [
              "<tf.Tensor: shape=(2,), dtype=int32, numpy=array([2, 3], dtype=int32)>"
            ]
          },
          "metadata": {},
          "execution_count": 15
        }
      ]
    },
    {
      "cell_type": "code",
      "source": [
        "#no of dimension\n",
        "vector.ndim"
      ],
      "metadata": {
        "colab": {
          "base_uri": "https://localhost:8080/"
        },
        "id": "tt9d1b47AhAq",
        "outputId": "817cdee5-f9b1-4e65-a307-a148d8ba964b"
      },
      "execution_count": 18,
      "outputs": [
        {
          "output_type": "execute_result",
          "data": {
            "text/plain": [
              "1"
            ]
          },
          "metadata": {},
          "execution_count": 18
        }
      ]
    },
    {
      "cell_type": "code",
      "source": [
        "#tensor\n",
        "tensor = tf.constant([[[3,4],\n",
        "                      [6,5],\n",
        "                      [3,5]\n",
        "                   \n",
        "],[[3,4],[4,5],[4,5]]])\n",
        "tensor\n"
      ],
      "metadata": {
        "id": "8XCB4qyvGHGU",
        "outputId": "94ef7d1f-3ad5-4e57-80fc-91b8563aeb23",
        "colab": {
          "base_uri": "https://localhost:8080/"
        }
      },
      "execution_count": 28,
      "outputs": [
        {
          "output_type": "execute_result",
          "data": {
            "text/plain": [
              "<tf.Tensor: shape=(2, 3, 2), dtype=int32, numpy=\n",
              "array([[[3, 4],\n",
              "        [6, 5],\n",
              "        [3, 5]],\n",
              "\n",
              "       [[3, 4],\n",
              "        [4, 5],\n",
              "        [4, 5]]], dtype=int32)>"
            ]
          },
          "metadata": {},
          "execution_count": 28
        }
      ]
    },
    {
      "cell_type": "code",
      "source": [
        "tensor.ndim"
      ],
      "metadata": {
        "id": "gLfr8rN5ICgP",
        "outputId": "cb0d2e88-c359-4646-c2b0-02fc96792d89",
        "colab": {
          "base_uri": "https://localhost:8080/"
        }
      },
      "execution_count": 29,
      "outputs": [
        {
          "output_type": "execute_result",
          "data": {
            "text/plain": [
              "3"
            ]
          },
          "metadata": {},
          "execution_count": 29
        }
      ]
    },
    {
      "cell_type": "code",
      "source": [
        "variable_tensor = tf.Variable([3,4])"
      ],
      "metadata": {
        "id": "jUyEKoieI_5X"
      },
      "execution_count": 30,
      "outputs": []
    },
    {
      "cell_type": "code",
      "source": [
        "variable_tensor[0].assign(7)"
      ],
      "metadata": {
        "id": "uKbH9jMgJpRb",
        "outputId": "bc18298c-c2ac-444a-af85-c68519b55b8a",
        "colab": {
          "base_uri": "https://localhost:8080/"
        }
      },
      "execution_count": 36,
      "outputs": [
        {
          "output_type": "execute_result",
          "data": {
            "text/plain": [
              "<tf.Variable 'UnreadVariable' shape=(2,) dtype=int32, numpy=array([7, 4], dtype=int32)>"
            ]
          },
          "metadata": {},
          "execution_count": 36
        }
      ]
    },
    {
      "cell_type": "code",
      "source": [
        "print(variable_tensor)"
      ],
      "metadata": {
        "id": "rWYN4-nCJwYf",
        "outputId": "21696c4d-9e44-4916-9ac3-e080bca0c6bd",
        "colab": {
          "base_uri": "https://localhost:8080/"
        }
      },
      "execution_count": 37,
      "outputs": [
        {
          "output_type": "stream",
          "name": "stdout",
          "text": [
            "<tf.Variable 'Variable:0' shape=(2,) dtype=int32, numpy=array([7, 4], dtype=int32)>\n"
          ]
        }
      ]
    },
    {
      "cell_type": "markdown",
      "source": [
        "## Random Tensors"
      ],
      "metadata": {
        "id": "ejTIOkl_Kcy2"
      }
    },
    {
      "cell_type": "code",
      "source": [
        "random_1= tf.random.Generator.from_seed(30)\n",
        "random_1 = random_1.normal(shape=(3,2))"
      ],
      "metadata": {
        "id": "krAV14VGKfWb"
      },
      "execution_count": 41,
      "outputs": []
    },
    {
      "cell_type": "code",
      "source": [
        "random_1"
      ],
      "metadata": {
        "id": "5ie4S7IULnro",
        "outputId": "7c628b68-28b2-4226-f8e5-24397cb96b76",
        "colab": {
          "base_uri": "https://localhost:8080/"
        }
      },
      "execution_count": 42,
      "outputs": [
        {
          "output_type": "execute_result",
          "data": {
            "text/plain": [
              "<tf.Tensor: shape=(3, 2), dtype=float32, numpy=\n",
              "array([[ 0.8357487 ,  0.20849545],\n",
              "       [ 1.4040174 , -2.735283  ],\n",
              "       [ 1.2232229 , -1.8653691 ]], dtype=float32)>"
            ]
          },
          "metadata": {},
          "execution_count": 42
        }
      ]
    },
    {
      "cell_type": "markdown",
      "source": [
        "## Shuffle Tensor "
      ],
      "metadata": {
        "id": "oW2r33nWNPBd"
      }
    },
    {
      "cell_type": "code",
      "source": [
        "unshuffled = tf.constant([[3,4],[7,8]])\n",
        "shuffled = tf.random.shuffle(unshuffled,seed = 3) #seed here is an operational seed\n",
        "shuffled"
      ],
      "metadata": {
        "id": "MugPqm5ANSkv",
        "outputId": "9ac970a8-2d8b-44ea-b16c-7a9f8513f114",
        "colab": {
          "base_uri": "https://localhost:8080/"
        }
      },
      "execution_count": 43,
      "outputs": [
        {
          "output_type": "execute_result",
          "data": {
            "text/plain": [
              "<tf.Tensor: shape=(2, 2), dtype=int32, numpy=\n",
              "array([[7, 8],\n",
              "       [3, 4]], dtype=int32)>"
            ]
          },
          "metadata": {},
          "execution_count": 43
        }
      ]
    },
    {
      "cell_type": "markdown",
      "source": [
        "##Set Seed"
      ],
      "metadata": {
        "id": "_PoHevy_OHmt"
      }
    },
    {
      "cell_type": "code",
      "source": [
        "#universal seed\n",
        "tf.random.set_seed(7)"
      ],
      "metadata": {
        "id": "cdeQwOndOTzu"
      },
      "execution_count": 44,
      "outputs": []
    },
    {
      "cell_type": "markdown",
      "source": [
        "## Creation of tensors in various ways"
      ],
      "metadata": {
        "id": "Vt8o7RviP0mW"
      }
    },
    {
      "cell_type": "code",
      "source": [
        "tf.ones((2,3))"
      ],
      "metadata": {
        "id": "IgqrP4L4P5BP",
        "outputId": "27f30b0a-a20b-4b30-c45a-a150e09dafc2",
        "colab": {
          "base_uri": "https://localhost:8080/"
        }
      },
      "execution_count": 45,
      "outputs": [
        {
          "output_type": "execute_result",
          "data": {
            "text/plain": [
              "<tf.Tensor: shape=(2, 3), dtype=float32, numpy=\n",
              "array([[1., 1., 1.],\n",
              "       [1., 1., 1.]], dtype=float32)>"
            ]
          },
          "metadata": {},
          "execution_count": 45
        }
      ]
    },
    {
      "cell_type": "code",
      "source": [
        "tf.zeros(shape= (4,2))"
      ],
      "metadata": {
        "id": "ZOky8reWP75t",
        "outputId": "f9301a7c-66f8-42c9-96a2-8a317fb41748",
        "colab": {
          "base_uri": "https://localhost:8080/"
        }
      },
      "execution_count": 46,
      "outputs": [
        {
          "output_type": "execute_result",
          "data": {
            "text/plain": [
              "<tf.Tensor: shape=(4, 2), dtype=float32, numpy=\n",
              "array([[0., 0.],\n",
              "       [0., 0.],\n",
              "       [0., 0.],\n",
              "       [0., 0.]], dtype=float32)>"
            ]
          },
          "metadata": {},
          "execution_count": 46
        }
      ]
    },
    {
      "cell_type": "markdown",
      "source": [
        "## Numpy to Tf"
      ],
      "metadata": {
        "id": "9VXI5iUAQBFp"
      }
    },
    {
      "cell_type": "code",
      "source": [
        "import numpy as np"
      ],
      "metadata": {
        "id": "o1ZWCfVvQP5E"
      },
      "execution_count": 47,
      "outputs": []
    },
    {
      "cell_type": "code",
      "source": [
        "np_array = np.arange(1,5, dtype= np.int32)\n",
        "np_array"
      ],
      "metadata": {
        "id": "x8amwvNSQEqZ",
        "outputId": "0d8ead2f-e135-4573-ed28-282cf3bd4c6e",
        "colab": {
          "base_uri": "https://localhost:8080/"
        }
      },
      "execution_count": 50,
      "outputs": [
        {
          "output_type": "execute_result",
          "data": {
            "text/plain": [
              "array([1, 2, 3, 4], dtype=int32)"
            ]
          },
          "metadata": {},
          "execution_count": 50
        }
      ]
    },
    {
      "cell_type": "code",
      "source": [
        "#conversion\n",
        "tf.constant(np_array, shape=(2,2))"
      ],
      "metadata": {
        "id": "YSxnuFc7QjR8",
        "outputId": "2bd13385-f009-43b4-91f5-cf4ad897fb50",
        "colab": {
          "base_uri": "https://localhost:8080/"
        }
      },
      "execution_count": 54,
      "outputs": [
        {
          "output_type": "execute_result",
          "data": {
            "text/plain": [
              "<tf.Tensor: shape=(2, 2), dtype=int32, numpy=\n",
              "array([[1, 2],\n",
              "       [3, 4]], dtype=int32)>"
            ]
          },
          "metadata": {},
          "execution_count": 54
        }
      ]
    },
    {
      "cell_type": "markdown",
      "source": [
        "## Tensor Atributes"
      ],
      "metadata": {
        "id": "OuNZiNJxRclE"
      }
    },
    {
      "cell_type": "code",
      "source": [
        ""
      ],
      "metadata": {
        "id": "ZMbFS5XBRhZN"
      },
      "execution_count": null,
      "outputs": []
    }
  ]
}